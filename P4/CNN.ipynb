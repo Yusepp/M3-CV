{
 "cells": [
  {
   "cell_type": "markdown",
   "metadata": {},
   "source": [
    "## **Week 5: Building our CNN**\n",
    "### José Manuel López, Alex Martín, Marcos V. Conde"
   ]
  },
  {
   "cell_type": "code",
   "execution_count": 1,
   "metadata": {},
   "outputs": [],
   "source": [
    "import tensorflow as tf\n",
    "import pandas as pd\n",
    "import warnings\n",
    "import os\n",
    "import numpy as np\n",
    "import gc\n",
    "import matplotlib.pyplot as plt\n",
    "\n",
    "from tensorflow.python.util import deprecation\n",
    "from tensorflow.keras.mixed_precision import experimental as mixed_precision\n",
    "from tensorflow.python.client import device_lib\n",
    "from tensorflow.keras.preprocessing.image import ImageDataGenerator\n",
    "from tensorflow.keras.models import Sequential, Model\n",
    "from tensorflow.keras.layers import Dense, Conv2D, GlobalAveragePooling2D, MaxPooling2D, Dropout, BatchNormalization, Input\n",
    "from tensorflow.keras.callbacks import ModelCheckpoint, ReduceLROnPlateau\n",
    "\n",
    "plt.style.use('ggplot')"
   ]
  },
  {
   "cell_type": "markdown",
   "metadata": {},
   "source": [
    "Loading Data and TF/Keras GPU setup"
   ]
  },
  {
   "cell_type": "code",
   "execution_count": 2,
   "metadata": {},
   "outputs": [],
   "source": [
    "DATA_DIR_SMALL = \"./datasets/MIT_small_train_{}\"\n",
    "DATA_DIR_BIG = \"./datasets/MIT_split\"\n",
    "IMG_SIZE = 64\n",
    "BATCH_SIZE = 128\n",
    "RANDOM_SEED = 42\n",
    "CLASSES = ['coast','forest','highway','inside_city','mountain','Opencountry','street','tallbuilding']"
   ]
  },
  {
   "cell_type": "code",
   "execution_count": 3,
   "metadata": {},
   "outputs": [
    {
     "name": "stdout",
     "output_type": "stream",
     "text": [
      "device: 0, name: NVIDIA GeForce RTX 3080, pci bus id: 0000:26:00.0, compute capability: 8.6\n",
      "INFO:tensorflow:Mixed precision compatibility check (mixed_float16): OK\n",
      "Your GPU will likely run quickly with dtype policy mixed_float16 as it has compute capability of at least 7.0. Your GPU: NVIDIA GeForce RTX 3080, compute capability 8.6\n",
      "PhysicalDevice(name='/physical_device:GPU:0', device_type='GPU')\n",
      "2.6.0\n"
     ]
    }
   ],
   "source": [
    "# Disable Warnings\n",
    "warnings.filterwarnings('ignore')\n",
    "os.environ['TF_CPP_MIN_LOG_LEVEL'] = '2'\n",
    "\n",
    "# VRAM broke without this\n",
    "gpus = tf.config.experimental.list_physical_devices('GPU')\n",
    "tf.config.experimental.set_memory_growth(gpus[0], True)\n",
    "deprecation._PRINT_DEPRECATION_WARNINGS = False\n",
    "tf.config.experimental_run_functions_eagerly(True)\n",
    "\n",
    "try:\n",
    "    # print model to see if it's compatible with Mixed Precision\n",
    "    print(device_lib.list_local_devices()[1].physical_device_desc)\n",
    "    # Change to TF16 mixed precision\n",
    "    policy = mixed_precision.Policy('mixed_float16')\n",
    "    mixed_precision.set_policy(policy)\n",
    "except:\n",
    "    pass\n",
    "\n",
    "print(gpus[0])\n",
    "print(tf.__version__)"
   ]
  },
  {
   "cell_type": "code",
   "execution_count": 4,
   "metadata": {},
   "outputs": [],
   "source": [
    "def get_dataset(path, aug):\n",
    "    print(\"Loading: {}\".format(path))\n",
    "    if not aug:\n",
    "        train_datagen = ImageDataGenerator(rescale=1./255)\n",
    "        test_datagen = ImageDataGenerator(rescale=1./255)\n",
    "\n",
    "        train_loader = train_datagen.flow_from_directory(\n",
    "                path+'/train',  \n",
    "                target_size=(IMG_SIZE, IMG_SIZE), \n",
    "                batch_size=BATCH_SIZE,\n",
    "                classes = CLASSES,\n",
    "                class_mode='categorical') \n",
    "\n",
    "        test_loader = test_datagen.flow_from_directory(\n",
    "            path+'/test',\n",
    "            target_size=(IMG_SIZE, IMG_SIZE),\n",
    "            batch_size=BATCH_SIZE,\n",
    "            classes = CLASSES,\n",
    "            class_mode='categorical')\n",
    "        \n",
    "        return train_loader, test_loader\n",
    "        \n",
    "    else:\n",
    "\n",
    "        train_datagen = ImageDataGenerator(rescale=1./255, featurewise_center = False, samplewise_center = False,\n",
    "                                           featurewise_std_normalization = False, samplewise_std_normalization = False,\n",
    "                                           rotation_range = 0.2, width_shift_range = 15, height_shift_range = 15, shear_range = 0.2,\n",
    "                                           zoom_range = 0.2, fill_mode = \"nearest\", horizontal_flip = True\n",
    "                                            )\n",
    "        test_datagen = ImageDataGenerator(rescale=1./255)\n",
    "\n",
    "        train_loader = train_datagen.flow_from_directory(\n",
    "                path+'/train',  \n",
    "                target_size=(IMG_SIZE, IMG_SIZE), \n",
    "                batch_size=BATCH_SIZE,\n",
    "                classes = CLASSES,\n",
    "                class_mode='categorical') \n",
    "\n",
    "        test_loader = test_datagen.flow_from_directory(\n",
    "            path+'/test',\n",
    "            target_size=(IMG_SIZE, IMG_SIZE),\n",
    "            batch_size=BATCH_SIZE,\n",
    "            classes = CLASSES,\n",
    "            class_mode='categorical')\n",
    "        \n",
    "        return train_loader, test_loader\n",
    "\n"
   ]
  },
  {
   "cell_type": "code",
   "execution_count": 5,
   "metadata": {},
   "outputs": [
    {
     "name": "stdout",
     "output_type": "stream",
     "text": [
      "Loading: ./datasets/MIT_small_train_1\n",
      "Found 400 images belonging to 8 classes.\n",
      "Found 2288 images belonging to 8 classes.\n",
      "Loading: ./datasets/MIT_split\n",
      "Found 1881 images belonging to 8 classes.\n",
      "Found 807 images belonging to 8 classes.\n",
      "Data Shape: (128, 64, 64, 3)\n"
     ]
    }
   ],
   "source": [
    "train_small, test_small = get_dataset(DATA_DIR_SMALL.format(1), aug = True)\n",
    "train_big, test_big = get_dataset(DATA_DIR_BIG, aug = True)\n",
    "\n",
    "\n",
    "examples = enumerate(train_big)\n",
    "batch_idx, (example_data, example_targets) = next(examples)\n",
    "print(\"Data Shape: {}\".format(example_data.shape))"
   ]
  },
  {
   "cell_type": "markdown",
   "metadata": {},
   "source": [
    "Building Model and Plotting Results"
   ]
  },
  {
   "cell_type": "code",
   "execution_count": 6,
   "metadata": {},
   "outputs": [],
   "source": [
    "def build_model(n_conv = 4, kernel_size = 5, conv = 256, n_dense = 2, dense = 1024, max_pool = False, dropout = False, batch_norm = False, opt = \"adam\"):\n",
    "    #create model\n",
    "    model = Sequential()\n",
    "    #add model layers\n",
    "    for idx, i in enumerate(range(n_conv)):\n",
    "        if idx == 0:\n",
    "            model.add(Conv2D(conv, kernel_size=kernel_size, activation=\"relu\", input_shape=(IMG_SIZE,IMG_SIZE,3)))\n",
    "            \n",
    "            if max_pool:\n",
    "                model.add(MaxPooling2D())\n",
    "        else:\n",
    "            model.add(Conv2D(conv, kernel_size=kernel_size, activation=\"relu\"))\n",
    "        \n",
    "        if batch_norm:\n",
    "            model.add(BatchNormalization())\n",
    "\n",
    "    model.add(GlobalAveragePooling2D())\n",
    "\n",
    "    for i in range(n_dense):\n",
    "        model.add(Dense(dense, activation=\"relu\"))\n",
    "        if dropout:\n",
    "            model.add(Dropout(0.2))\n",
    "        \n",
    "        if batch_norm:\n",
    "            model.add(BatchNormalization())\n",
    "\n",
    "    model.add(Dense(len(CLASSES), activation=\"softmax\"))\n",
    "\n",
    "    model.compile(optimizer=opt, loss='categorical_crossentropy',metrics=[\"accuracy\"])\n",
    "\n",
    "    return model\n",
    "\n",
    "\n",
    "\n",
    "def plot_loss_accuracy(history, title):\n",
    "    fig, (ax1, ax2) = plt.subplots(1, 2, figsize=(25,8))\n",
    "    \n",
    "    fig.suptitle(title, fontsize=16)\n",
    "\n",
    "    # Plot history: CrossEntropy\n",
    "    ax1.plot(history.history['loss'], label='CrossEntropy (training data)')\n",
    "    ax1.plot(history.history['val_loss'], label='CrossEntropy (validation data)')\n",
    "    ax1.set_title('Loss Function: Cross Entropy')\n",
    "    ax1.set(xlabel='Epoch', ylabel='Loss Value')\n",
    "    ax1.legend(loc=\"upper left\")\n",
    "\n",
    "    # Plot history: Accuracy\n",
    "    ax2.plot(history.history['accuracy'], label='Accuracy (training data)')\n",
    "    ax2.plot(history.history['val_accuracy'], label='Accuracy (validation data)')\n",
    "    ax2.set_title('Accuracy')\n",
    "    ax2.set(xlabel='Epoch', ylabel='Accuracy Value')\n",
    "    ax2.legend(loc=\"upper left\")\n",
    "\n",
    "    plt.show()"
   ]
  },
  {
   "cell_type": "code",
   "execution_count": 7,
   "metadata": {},
   "outputs": [],
   "source": [
    "experiment = []\n",
    "results = {\"Train Loss\": [], \"Train Accuracy\": [],\"Test Loss\": [],\"Test Accuracy\": [], \"Ratio\": [], \"Num. Params\": []}"
   ]
  },
  {
   "cell_type": "markdown",
   "metadata": {},
   "source": [
    "## Checking Convolutional Layers"
   ]
  },
  {
   "cell_type": "markdown",
   "metadata": {},
   "source": [
    "#### 1 Convolution Layer"
   ]
  },
  {
   "cell_type": "code",
   "execution_count": 8,
   "metadata": {},
   "outputs": [
    {
     "name": "stdout",
     "output_type": "stream",
     "text": [
      "WARNING:tensorflow:tf.keras.mixed_precision.experimental.LossScaleOptimizer is deprecated. Please use tf.keras.mixed_precision.LossScaleOptimizer instead. Note that the non-experimental LossScaleOptimizer does not take a DynamicLossScale but instead takes the dynamic configuration directly in the constructor. For example:\n",
      "  opt = tf.keras.mixed_precision.LossScaleOptimizer(opt)\n",
      "\n"
     ]
    }
   ],
   "source": [
    "N_CONV  = 1\n",
    "CONV = 64\n",
    "KERNEL = 5\n",
    "N_DENSE = 1\n",
    "DENSE = 1024\n",
    "idx = 0\n",
    "checkpoint = ModelCheckpoint(f'model_{idx}.h5', save_best_only=True, monitor='val_accuracy', mode='max', verbose=0)\n",
    "lr_reducer = ReduceLROnPlateau(monitor='val_accuracy', patience=10, factor=0.5, min_lr=1e-6, mode='max', verbose=1)\n",
    "\n",
    "tf.keras.backend.clear_session()\n",
    "gc.collect()\n",
    "\n",
    "model = build_model(n_conv = N_CONV, kernel_size= KERNEL, conv = CONV, n_dense = N_DENSE, dense = DENSE, opt = \"adam\")\n",
    "if not f'model_{idx}.h5' in os.listdir(\".\"):\n",
    "    history = model.fit(train_big,steps_per_epoch=train_big.samples // BATCH_SIZE, epochs=100, validation_data=test_big, validation_steps=test_big.samples // BATCH_SIZE, verbose = 0, callbacks=[checkpoint, lr_reducer])"
   ]
  },
  {
   "cell_type": "code",
   "execution_count": 9,
   "metadata": {},
   "outputs": [
    {
     "name": "stdout",
     "output_type": "stream",
     "text": [
      "Train Accuracy: 0.6135  Train Loss: 1.0758\n",
      "Test Accuracy: 0.6555  Test Loss: 1.0011\n"
     ]
    }
   ],
   "source": [
    "model.load_weights(f'model_{idx}.h5')\n",
    "title = \"{} Conv {} filters {} kernel size {} dense {} neurons\".format(N_CONV, CONV, KERNEL, N_DENSE, DENSE)\n",
    "experiment.append(title)\n",
    "if not f'model_{idx}.h5' in os.listdir(\".\"):\n",
    "    plot_loss_accuracy(history, title)\n",
    "(loss, acc) = model.evaluate(train_big, verbose = 0)\n",
    "results[\"Train Accuracy\"].append(acc)\n",
    "results[\"Train Loss\"].append(loss)\n",
    "results[\"Ratio\"].append(acc/(model.count_params()/100*1000))\n",
    "print(\"Train Accuracy: {:.4f}  Train Loss: {:.4f}\".format(acc,loss))\n",
    "(loss, acc) = model.evaluate(test_big, verbose = 0)\n",
    "results[\"Test Accuracy\"].append(acc)\n",
    "results[\"Test Loss\"].append(loss)\n",
    "print(\"Test Accuracy: {:.4f}  Test Loss: {:.4f}\".format(acc,loss))\n",
    "results[\"Num. Params\"].append(model.count_params())"
   ]
  },
  {
   "cell_type": "markdown",
   "metadata": {},
   "source": [
    "#### 2 Convolution Layer"
   ]
  },
  {
   "cell_type": "code",
   "execution_count": 10,
   "metadata": {},
   "outputs": [
    {
     "name": "stdout",
     "output_type": "stream",
     "text": [
      "WARNING:tensorflow:tf.keras.mixed_precision.experimental.LossScaleOptimizer is deprecated. Please use tf.keras.mixed_precision.LossScaleOptimizer instead. Note that the non-experimental LossScaleOptimizer does not take a DynamicLossScale but instead takes the dynamic configuration directly in the constructor. For example:\n",
      "  opt = tf.keras.mixed_precision.LossScaleOptimizer(opt)\n",
      "\n"
     ]
    }
   ],
   "source": [
    "N_CONV  = 2\n",
    "CONV = 64\n",
    "KERNEL = 5\n",
    "N_DENSE = 1\n",
    "DENSE = 1024\n",
    "idx = 1\n",
    "checkpoint = ModelCheckpoint(f'model_{idx}.h5', save_best_only=True, monitor='val_accuracy', mode='max', verbose=0)\n",
    "lr_reducer = ReduceLROnPlateau(monitor='val_accuracy', patience=10, factor=0.5, min_lr=1e-6, mode='max', verbose=1)\n",
    "\n",
    "tf.keras.backend.clear_session()\n",
    "gc.collect()\n",
    "\n",
    "model = build_model(n_conv = N_CONV, kernel_size= KERNEL, conv = CONV, n_dense = N_DENSE, dense = DENSE, opt = \"adam\")\n",
    "if not f'model_{idx}.h5' in os.listdir(\".\"):\n",
    "    history = model.fit(train_big,steps_per_epoch=train_big.samples // BATCH_SIZE, epochs=100, validation_data=test_big, validation_steps=test_big.samples // BATCH_SIZE, verbose = 0, callbacks=[checkpoint, lr_reducer])"
   ]
  },
  {
   "cell_type": "code",
   "execution_count": 11,
   "metadata": {},
   "outputs": [
    {
     "name": "stdout",
     "output_type": "stream",
     "text": [
      "Train Accuracy: 0.7363  Train Loss: 0.7412\n",
      "Test Accuracy: 0.7745  Test Loss: 0.6835\n"
     ]
    }
   ],
   "source": [
    "model.load_weights(f'model_{idx}.h5')\n",
    "title = \"{} Conv {} filters {} kernel size {} dense {} neurons\".format(N_CONV, CONV, KERNEL, N_DENSE, DENSE)\n",
    "if not f'model_{idx}.h5' in os.listdir(\".\"):\n",
    "    plot_loss_accuracy(history, title)\n",
    "experiment.append(title)\n",
    "(loss, acc) = model.evaluate(train_big, verbose = 0)\n",
    "results[\"Train Accuracy\"].append(acc)\n",
    "results[\"Train Loss\"].append(loss)\n",
    "results[\"Ratio\"].append(acc/(model.count_params()/100*1000))\n",
    "print(\"Train Accuracy: {:.4f}  Train Loss: {:.4f}\".format(acc,loss))\n",
    "(loss, acc) = model.evaluate(test_big, verbose = 0)\n",
    "results[\"Test Accuracy\"].append(acc)\n",
    "results[\"Test Loss\"].append(loss)\n",
    "print(\"Test Accuracy: {:.4f}  Test Loss: {:.4f}\".format(acc,loss))\n",
    "results[\"Num. Params\"].append(model.count_params())"
   ]
  },
  {
   "cell_type": "markdown",
   "metadata": {},
   "source": [
    "#### 4 Convolution Layer"
   ]
  },
  {
   "cell_type": "code",
   "execution_count": 12,
   "metadata": {},
   "outputs": [
    {
     "name": "stdout",
     "output_type": "stream",
     "text": [
      "WARNING:tensorflow:tf.keras.mixed_precision.experimental.LossScaleOptimizer is deprecated. Please use tf.keras.mixed_precision.LossScaleOptimizer instead. Note that the non-experimental LossScaleOptimizer does not take a DynamicLossScale but instead takes the dynamic configuration directly in the constructor. For example:\n",
      "  opt = tf.keras.mixed_precision.LossScaleOptimizer(opt)\n",
      "\n"
     ]
    }
   ],
   "source": [
    "N_CONV  = 4\n",
    "CONV = 64\n",
    "KERNEL = 5\n",
    "N_DENSE = 1\n",
    "DENSE = 1024\n",
    "idx = 2\n",
    "checkpoint = ModelCheckpoint(f'model_{idx}.h5', save_best_only=True, monitor='val_accuracy', mode='max', verbose=0)\n",
    "lr_reducer = ReduceLROnPlateau(monitor='val_accuracy', patience=10, factor=0.5, min_lr=1e-6, mode='max', verbose=1)\n",
    "\n",
    "tf.keras.backend.clear_session()\n",
    "gc.collect()\n",
    "\n",
    "model = build_model(n_conv = N_CONV, kernel_size= KERNEL, conv = CONV, n_dense = N_DENSE, dense = DENSE, opt = \"adam\")\n",
    "if not f'model_{idx}.h5' in os.listdir(\".\"):\n",
    "    history = model.fit(train_big,steps_per_epoch=train_big.samples // BATCH_SIZE, epochs=100, validation_data=test_big, validation_steps=test_big.samples // BATCH_SIZE, verbose = 0, callbacks=[checkpoint, lr_reducer])"
   ]
  },
  {
   "cell_type": "code",
   "execution_count": 13,
   "metadata": {},
   "outputs": [
    {
     "name": "stdout",
     "output_type": "stream",
     "text": [
      "Train Accuracy: 0.8570  Train Loss: 0.4197\n",
      "Test Accuracy: 0.8501  Test Loss: 0.4943\n"
     ]
    }
   ],
   "source": [
    "model.load_weights(f'model_{idx}.h5')\n",
    "title = \"{} Conv {} filters {} kernel size {} dense {} neurons\".format(N_CONV, CONV, KERNEL, N_DENSE, DENSE)\n",
    "if not f'model_{idx}.h5' in os.listdir(\".\"):\n",
    "    plot_loss_accuracy(history, title)\n",
    "experiment.append(title)\n",
    "(loss, acc) = model.evaluate(train_big, verbose = 0)\n",
    "results[\"Train Accuracy\"].append(acc)\n",
    "results[\"Train Loss\"].append(loss)\n",
    "results[\"Ratio\"].append(acc/(model.count_params()/100*1000))\n",
    "print(\"Train Accuracy: {:.4f}  Train Loss: {:.4f}\".format(acc,loss))\n",
    "(loss, acc) = model.evaluate(test_big, verbose = 0)\n",
    "results[\"Test Accuracy\"].append(acc)\n",
    "results[\"Test Loss\"].append(loss)\n",
    "print(\"Test Accuracy: {:.4f}  Test Loss: {:.4f}\".format(acc,loss))\n",
    "results[\"Num. Params\"].append(model.count_params())"
   ]
  },
  {
   "cell_type": "markdown",
   "metadata": {},
   "source": [
    "#### 8 Convolution Layer"
   ]
  },
  {
   "cell_type": "code",
   "execution_count": 14,
   "metadata": {},
   "outputs": [
    {
     "name": "stdout",
     "output_type": "stream",
     "text": [
      "WARNING:tensorflow:tf.keras.mixed_precision.experimental.LossScaleOptimizer is deprecated. Please use tf.keras.mixed_precision.LossScaleOptimizer instead. Note that the non-experimental LossScaleOptimizer does not take a DynamicLossScale but instead takes the dynamic configuration directly in the constructor. For example:\n",
      "  opt = tf.keras.mixed_precision.LossScaleOptimizer(opt)\n",
      "\n"
     ]
    }
   ],
   "source": [
    "N_CONV  = 8\n",
    "CONV = 64\n",
    "KERNEL = 5\n",
    "N_DENSE = 1\n",
    "DENSE = 1024\n",
    "idx = 3\n",
    "checkpoint = ModelCheckpoint(f'model_{idx}.h5', save_best_only=True, monitor='val_accuracy', mode='max', verbose=0)\n",
    "lr_reducer = ReduceLROnPlateau(monitor='val_accuracy', patience=10, factor=0.5, min_lr=1e-6, mode='max', verbose=1)\n",
    "\n",
    "tf.keras.backend.clear_session()\n",
    "gc.collect()\n",
    "\n",
    "model = build_model(n_conv = N_CONV, kernel_size= KERNEL, conv = CONV, n_dense = N_DENSE, dense = DENSE, opt = \"adam\")\n",
    "if not f'model_{idx}.h5' in os.listdir(\".\"):\n",
    "    history = model.fit(train_big,steps_per_epoch=train_big.samples // BATCH_SIZE, epochs=100, validation_data=test_big, validation_steps=test_big.samples // BATCH_SIZE, verbose = 0, callbacks=[checkpoint, lr_reducer])"
   ]
  },
  {
   "cell_type": "code",
   "execution_count": 15,
   "metadata": {},
   "outputs": [
    {
     "name": "stdout",
     "output_type": "stream",
     "text": [
      "Train Accuracy: 0.8671  Train Loss: 0.3864\n",
      "Test Accuracy: 0.8426  Test Loss: 0.4908\n"
     ]
    }
   ],
   "source": [
    "model.load_weights(f'model_{idx}.h5')\n",
    "title = \"{} Conv {} filters {} kernel size {} dense {} neurons\".format(N_CONV, CONV, KERNEL, N_DENSE, DENSE)\n",
    "if not f'model_{idx}.h5' in os.listdir(\".\"):\n",
    "    plot_loss_accuracy(history, title)\n",
    "experiment.append(title)\n",
    "(loss, acc) = model.evaluate(train_big, verbose = 0)\n",
    "results[\"Train Accuracy\"].append(acc)\n",
    "results[\"Train Loss\"].append(loss)\n",
    "results[\"Ratio\"].append(acc/(model.count_params()/100*1000))\n",
    "print(\"Train Accuracy: {:.4f}  Train Loss: {:.4f}\".format(acc,loss))\n",
    "(loss, acc) = model.evaluate(test_big, verbose = 0)\n",
    "results[\"Test Accuracy\"].append(acc)\n",
    "results[\"Test Loss\"].append(loss)\n",
    "print(\"Test Accuracy: {:.4f}  Test Loss: {:.4f}\".format(acc,loss))\n",
    "results[\"Num. Params\"].append(model.count_params())"
   ]
  },
  {
   "cell_type": "markdown",
   "metadata": {},
   "source": [
    "## Checking Dense Layers"
   ]
  },
  {
   "cell_type": "markdown",
   "metadata": {},
   "source": [
    "#### 2 Dense Layer"
   ]
  },
  {
   "cell_type": "code",
   "execution_count": 16,
   "metadata": {},
   "outputs": [
    {
     "name": "stdout",
     "output_type": "stream",
     "text": [
      "WARNING:tensorflow:tf.keras.mixed_precision.experimental.LossScaleOptimizer is deprecated. Please use tf.keras.mixed_precision.LossScaleOptimizer instead. Note that the non-experimental LossScaleOptimizer does not take a DynamicLossScale but instead takes the dynamic configuration directly in the constructor. For example:\n",
      "  opt = tf.keras.mixed_precision.LossScaleOptimizer(opt)\n",
      "\n"
     ]
    }
   ],
   "source": [
    "N_CONV  = 4\n",
    "CONV = 64\n",
    "KERNEL = 5\n",
    "N_DENSE = 2\n",
    "DENSE = 1024\n",
    "idx = 4\n",
    "checkpoint = ModelCheckpoint(f'model_{idx}.h5', save_best_only=True, monitor='val_accuracy', mode='max', verbose=0)\n",
    "lr_reducer = ReduceLROnPlateau(monitor='val_accuracy', patience=10, factor=0.5, min_lr=1e-6, mode='max', verbose=1)\n",
    "\n",
    "tf.keras.backend.clear_session()\n",
    "gc.collect()\n",
    "\n",
    "model = build_model(n_conv = N_CONV, kernel_size= KERNEL, conv = CONV, n_dense = N_DENSE, dense = DENSE, opt = \"adam\")\n",
    "if not f'model_{idx}.h5' in os.listdir(\".\"):\n",
    "    history = model.fit(train_big,steps_per_epoch=train_big.samples // BATCH_SIZE, epochs=100, validation_data=test_big, validation_steps=test_big.samples // BATCH_SIZE, verbose = 0, callbacks=[checkpoint, lr_reducer])"
   ]
  },
  {
   "cell_type": "code",
   "execution_count": 17,
   "metadata": {},
   "outputs": [
    {
     "name": "stdout",
     "output_type": "stream",
     "text": [
      "Train Accuracy: 0.8974  Train Loss: 0.3033\n",
      "Test Accuracy: 0.8538  Test Loss: 0.4606\n"
     ]
    }
   ],
   "source": [
    "model.load_weights(f'model_{idx}.h5')\n",
    "title = \"{} Conv {} filters {} kernel size {} dense {} neurons\".format(N_CONV, CONV, KERNEL, N_DENSE, DENSE)\n",
    "if not f'model_{idx}.h5' in os.listdir(\".\"):\n",
    "    plot_loss_accuracy(history, title)\n",
    "experiment.append(title)\n",
    "(loss, acc) = model.evaluate(train_big, verbose = 0)\n",
    "results[\"Train Accuracy\"].append(acc)\n",
    "results[\"Train Loss\"].append(loss)\n",
    "results[\"Ratio\"].append(acc/(model.count_params()/100*1000))\n",
    "print(\"Train Accuracy: {:.4f}  Train Loss: {:.4f}\".format(acc,loss))\n",
    "(loss, acc) = model.evaluate(test_big, verbose = 0)\n",
    "results[\"Test Accuracy\"].append(acc)\n",
    "results[\"Test Loss\"].append(loss)\n",
    "print(\"Test Accuracy: {:.4f}  Test Loss: {:.4f}\".format(acc,loss))\n",
    "results[\"Num. Params\"].append(model.count_params())"
   ]
  },
  {
   "cell_type": "markdown",
   "metadata": {},
   "source": [
    "#### 4 Dense Layer"
   ]
  },
  {
   "cell_type": "code",
   "execution_count": 18,
   "metadata": {},
   "outputs": [
    {
     "name": "stdout",
     "output_type": "stream",
     "text": [
      "WARNING:tensorflow:tf.keras.mixed_precision.experimental.LossScaleOptimizer is deprecated. Please use tf.keras.mixed_precision.LossScaleOptimizer instead. Note that the non-experimental LossScaleOptimizer does not take a DynamicLossScale but instead takes the dynamic configuration directly in the constructor. For example:\n",
      "  opt = tf.keras.mixed_precision.LossScaleOptimizer(opt)\n",
      "\n"
     ]
    }
   ],
   "source": [
    "N_CONV  = 4\n",
    "CONV = 64\n",
    "KERNEL = 5\n",
    "N_DENSE = 4\n",
    "DENSE = 1024\n",
    "idx = 5\n",
    "checkpoint = ModelCheckpoint(f'model_{idx}.h5', save_best_only=True, monitor='val_accuracy', mode='max', verbose=0)\n",
    "lr_reducer = ReduceLROnPlateau(monitor='val_accuracy', patience=10, factor=0.5, min_lr=1e-6, mode='max', verbose=1)\n",
    "\n",
    "tf.keras.backend.clear_session()\n",
    "gc.collect()\n",
    "\n",
    "model = build_model(n_conv = N_CONV, kernel_size= KERNEL, conv = CONV, n_dense = N_DENSE, dense = DENSE, opt = \"adam\")\n",
    "if not f'model_{idx}.h5' in os.listdir(\".\"):\n",
    "    history = model.fit(train_big,steps_per_epoch=train_big.samples // BATCH_SIZE, epochs=100, validation_data=test_big, validation_steps=test_big.samples // BATCH_SIZE, verbose = 0, callbacks=[checkpoint, lr_reducer])"
   ]
  },
  {
   "cell_type": "code",
   "execution_count": 19,
   "metadata": {},
   "outputs": [
    {
     "name": "stdout",
     "output_type": "stream",
     "text": [
      "Train Accuracy: 0.8979  Train Loss: 0.3059\n",
      "Test Accuracy: 0.8686  Test Loss: 0.4426\n"
     ]
    }
   ],
   "source": [
    "model.load_weights(f'model_{idx}.h5')\n",
    "title = \"{} Conv {} filters {} kernel size {} dense {} neurons\".format(N_CONV, CONV, KERNEL, N_DENSE, DENSE)\n",
    "if not f'model_{idx}.h5' in os.listdir(\".\"):\n",
    "    plot_loss_accuracy(history, title)\n",
    "experiment.append(title)\n",
    "(loss, acc) = model.evaluate(train_big, verbose = 0)\n",
    "results[\"Train Accuracy\"].append(acc)\n",
    "results[\"Train Loss\"].append(loss)\n",
    "results[\"Ratio\"].append(acc/(model.count_params()/100*1000))\n",
    "print(\"Train Accuracy: {:.4f}  Train Loss: {:.4f}\".format(acc,loss))\n",
    "(loss, acc) = model.evaluate(test_big, verbose = 0)\n",
    "results[\"Test Accuracy\"].append(acc)\n",
    "results[\"Test Loss\"].append(loss)\n",
    "print(\"Test Accuracy: {:.4f}  Test Loss: {:.4f}\".format(acc,loss))\n",
    "results[\"Num. Params\"].append(model.count_params())"
   ]
  },
  {
   "cell_type": "markdown",
   "metadata": {},
   "source": [
    "## Checking Number of Filters"
   ]
  },
  {
   "cell_type": "markdown",
   "metadata": {},
   "source": [
    "#### 32 Filters"
   ]
  },
  {
   "cell_type": "code",
   "execution_count": 20,
   "metadata": {},
   "outputs": [
    {
     "name": "stdout",
     "output_type": "stream",
     "text": [
      "WARNING:tensorflow:tf.keras.mixed_precision.experimental.LossScaleOptimizer is deprecated. Please use tf.keras.mixed_precision.LossScaleOptimizer instead. Note that the non-experimental LossScaleOptimizer does not take a DynamicLossScale but instead takes the dynamic configuration directly in the constructor. For example:\n",
      "  opt = tf.keras.mixed_precision.LossScaleOptimizer(opt)\n",
      "\n"
     ]
    }
   ],
   "source": [
    "N_CONV  = 4\n",
    "CONV = 32\n",
    "KERNEL = 5\n",
    "N_DENSE = 2\n",
    "DENSE = 1024\n",
    "idx = 6\n",
    "checkpoint = ModelCheckpoint(f'model_{idx}.h5', save_best_only=True, monitor='val_accuracy', mode='max', verbose=0)\n",
    "lr_reducer = ReduceLROnPlateau(monitor='val_accuracy', patience=10, factor=0.5, min_lr=1e-6, mode='max', verbose=1)\n",
    "\n",
    "tf.keras.backend.clear_session()\n",
    "gc.collect()\n",
    "\n",
    "model = build_model(n_conv = N_CONV, kernel_size= KERNEL, conv = CONV, n_dense = N_DENSE, dense = DENSE, opt = \"adam\")\n",
    "if not f'model_{idx}.h5' in os.listdir(\".\"):\n",
    "    history = model.fit(train_big,steps_per_epoch=train_big.samples // BATCH_SIZE, epochs=100, validation_data=test_big, validation_steps=test_big.samples // BATCH_SIZE, verbose = 0, callbacks=[checkpoint, lr_reducer])"
   ]
  },
  {
   "cell_type": "code",
   "execution_count": 21,
   "metadata": {},
   "outputs": [
    {
     "name": "stdout",
     "output_type": "stream",
     "text": [
      "Train Accuracy: 0.8623  Train Loss: 0.4084\n",
      "Test Accuracy: 0.8439  Test Loss: 0.5130\n"
     ]
    }
   ],
   "source": [
    "model.load_weights(f'model_{idx}.h5')\n",
    "title = \"{} Conv {} filters {} kernel size {} dense {} neurons\".format(N_CONV, CONV, KERNEL, N_DENSE, DENSE)\n",
    "if not f'model_{idx}.h5' in os.listdir(\".\"):\n",
    "    plot_loss_accuracy(history, title)\n",
    "experiment.append(title)\n",
    "(loss, acc) = model.evaluate(train_big, verbose = 0)\n",
    "results[\"Train Accuracy\"].append(acc)\n",
    "results[\"Train Loss\"].append(loss)\n",
    "results[\"Ratio\"].append(acc/(model.count_params()/100*1000))\n",
    "print(\"Train Accuracy: {:.4f}  Train Loss: {:.4f}\".format(acc,loss))\n",
    "(loss, acc) = model.evaluate(test_big, verbose = 0)\n",
    "results[\"Test Accuracy\"].append(acc)\n",
    "results[\"Test Loss\"].append(loss)\n",
    "print(\"Test Accuracy: {:.4f}  Test Loss: {:.4f}\".format(acc,loss))\n",
    "results[\"Num. Params\"].append(model.count_params())"
   ]
  },
  {
   "cell_type": "markdown",
   "metadata": {},
   "source": [
    "#### 128 Filters"
   ]
  },
  {
   "cell_type": "code",
   "execution_count": 22,
   "metadata": {},
   "outputs": [
    {
     "name": "stdout",
     "output_type": "stream",
     "text": [
      "WARNING:tensorflow:tf.keras.mixed_precision.experimental.LossScaleOptimizer is deprecated. Please use tf.keras.mixed_precision.LossScaleOptimizer instead. Note that the non-experimental LossScaleOptimizer does not take a DynamicLossScale but instead takes the dynamic configuration directly in the constructor. For example:\n",
      "  opt = tf.keras.mixed_precision.LossScaleOptimizer(opt)\n",
      "\n"
     ]
    }
   ],
   "source": [
    "N_CONV  = 4\n",
    "CONV = 128\n",
    "KERNEL = 5\n",
    "N_DENSE = 2\n",
    "DENSE = 1024\n",
    "idx = 7\n",
    "checkpoint = ModelCheckpoint(f'model_{idx}.h5', save_best_only=True, monitor='val_accuracy', mode='max', verbose=0)\n",
    "lr_reducer = ReduceLROnPlateau(monitor='val_accuracy', patience=10, factor=0.5, min_lr=1e-6, mode='max', verbose=1)\n",
    "\n",
    "tf.keras.backend.clear_session()\n",
    "gc.collect()\n",
    "\n",
    "model = build_model(n_conv = N_CONV, kernel_size= KERNEL, conv = CONV, n_dense = N_DENSE, dense = DENSE, opt = \"adam\")\n",
    "if not f'model_{idx}.h5' in os.listdir(\".\"):\n",
    "    history = model.fit(train_big,steps_per_epoch=train_big.samples // BATCH_SIZE, epochs=100, validation_data=test_big, validation_steps=test_big.samples // BATCH_SIZE, verbose = 0, callbacks=[checkpoint, lr_reducer])"
   ]
  },
  {
   "cell_type": "code",
   "execution_count": 23,
   "metadata": {},
   "outputs": [
    {
     "name": "stdout",
     "output_type": "stream",
     "text": [
      "Train Accuracy: 0.8830  Train Loss: 0.3153\n",
      "Test Accuracy: 0.8625  Test Loss: 0.4074\n"
     ]
    }
   ],
   "source": [
    "model.load_weights(f'model_{idx}.h5')\n",
    "title = \"{} Conv {} filters {} kernel size {} dense {} neurons\".format(N_CONV, CONV, KERNEL, N_DENSE, DENSE)\n",
    "if not f'model_{idx}.h5' in os.listdir(\".\"):\n",
    "    plot_loss_accuracy(history, title)\n",
    "experiment.append(title)\n",
    "(loss, acc) = model.evaluate(train_big, verbose = 0)\n",
    "results[\"Train Accuracy\"].append(acc)\n",
    "results[\"Train Loss\"].append(loss)\n",
    "results[\"Ratio\"].append(acc/(model.count_params()/100*1000))\n",
    "print(\"Train Accuracy: {:.4f}  Train Loss: {:.4f}\".format(acc,loss))\n",
    "(loss, acc) = model.evaluate(test_big, verbose = 0)\n",
    "results[\"Test Accuracy\"].append(acc)\n",
    "results[\"Test Loss\"].append(loss)\n",
    "print(\"Test Accuracy: {:.4f}  Test Loss: {:.4f}\".format(acc,loss))\n",
    "results[\"Num. Params\"].append(model.count_params())"
   ]
  },
  {
   "cell_type": "markdown",
   "metadata": {},
   "source": [
    "#### 256 Filters"
   ]
  },
  {
   "cell_type": "code",
   "execution_count": 24,
   "metadata": {},
   "outputs": [
    {
     "name": "stdout",
     "output_type": "stream",
     "text": [
      "WARNING:tensorflow:tf.keras.mixed_precision.experimental.LossScaleOptimizer is deprecated. Please use tf.keras.mixed_precision.LossScaleOptimizer instead. Note that the non-experimental LossScaleOptimizer does not take a DynamicLossScale but instead takes the dynamic configuration directly in the constructor. For example:\n",
      "  opt = tf.keras.mixed_precision.LossScaleOptimizer(opt)\n",
      "\n"
     ]
    }
   ],
   "source": [
    "N_CONV  = 4\n",
    "CONV = 256\n",
    "KERNEL = 5\n",
    "N_DENSE = 2\n",
    "DENSE = 1024\n",
    "idx = 8\n",
    "checkpoint = ModelCheckpoint(f'model_{idx}.h5', save_best_only=True, monitor='val_accuracy', mode='max', verbose=0)\n",
    "lr_reducer = ReduceLROnPlateau(monitor='val_accuracy', patience=10, factor=0.5, min_lr=1e-6, mode='max', verbose=1)\n",
    "\n",
    "tf.keras.backend.clear_session()\n",
    "gc.collect()\n",
    "\n",
    "model = build_model(n_conv = N_CONV, kernel_size= KERNEL, conv = CONV, n_dense = N_DENSE, dense = DENSE, opt = \"adam\")\n",
    "if not f'model_{idx}.h5' in os.listdir(\".\"):\n",
    "    history = model.fit(train_big,steps_per_epoch=train_big.samples // BATCH_SIZE, epochs=100, validation_data=test_big, validation_steps=test_big.samples // BATCH_SIZE, verbose = 0, callbacks=[checkpoint, lr_reducer])"
   ]
  },
  {
   "cell_type": "code",
   "execution_count": 25,
   "metadata": {},
   "outputs": [
    {
     "name": "stdout",
     "output_type": "stream",
     "text": [
      "Train Accuracy: 0.8703  Train Loss: 0.3822\n",
      "Test Accuracy: 0.8463  Test Loss: 0.4777\n"
     ]
    }
   ],
   "source": [
    "model.load_weights(f'model_{idx}.h5')\n",
    "title = \"{} Conv {} filters {} kernel size {} dense {} neurons\".format(N_CONV, CONV, KERNEL, N_DENSE, DENSE)\n",
    "if not f'model_{idx}.h5' in os.listdir(\".\"):\n",
    "    plot_loss_accuracy(history, title)\n",
    "experiment.append(title)\n",
    "(loss, acc) = model.evaluate(train_big, verbose = 0)\n",
    "results[\"Train Accuracy\"].append(acc)\n",
    "results[\"Train Loss\"].append(loss)\n",
    "results[\"Ratio\"].append(acc/(model.count_params()/100*1000))\n",
    "print(\"Train Accuracy: {:.4f}  Train Loss: {:.4f}\".format(acc,loss))\n",
    "(loss, acc) = model.evaluate(test_big, verbose = 0)\n",
    "results[\"Test Accuracy\"].append(acc)\n",
    "results[\"Test Loss\"].append(loss)\n",
    "print(\"Test Accuracy: {:.4f}  Test Loss: {:.4f}\".format(acc,loss))\n",
    "results[\"Num. Params\"].append(model.count_params())"
   ]
  },
  {
   "cell_type": "markdown",
   "metadata": {},
   "source": [
    "## Checking Regularization"
   ]
  },
  {
   "cell_type": "markdown",
   "metadata": {},
   "source": [
    "#### Adding MaxPooling"
   ]
  },
  {
   "cell_type": "code",
   "execution_count": 26,
   "metadata": {},
   "outputs": [
    {
     "name": "stdout",
     "output_type": "stream",
     "text": [
      "WARNING:tensorflow:tf.keras.mixed_precision.experimental.LossScaleOptimizer is deprecated. Please use tf.keras.mixed_precision.LossScaleOptimizer instead. Note that the non-experimental LossScaleOptimizer does not take a DynamicLossScale but instead takes the dynamic configuration directly in the constructor. For example:\n",
      "  opt = tf.keras.mixed_precision.LossScaleOptimizer(opt)\n",
      "\n"
     ]
    }
   ],
   "source": [
    "N_CONV  = 4\n",
    "CONV = 256\n",
    "KERNEL = 5\n",
    "N_DENSE = 2\n",
    "DENSE = 1024\n",
    "MAX_POOLING = True\n",
    "idx = 9\n",
    "checkpoint = ModelCheckpoint(f'model_{idx}.h5', save_best_only=True, monitor='val_accuracy', mode='max', verbose=0)\n",
    "lr_reducer = ReduceLROnPlateau(monitor='val_accuracy', patience=10, factor=0.5, min_lr=1e-6, mode='max', verbose=1)\n",
    "\n",
    "tf.keras.backend.clear_session()\n",
    "gc.collect()\n",
    "\n",
    "model = build_model(n_conv = N_CONV, kernel_size= KERNEL, conv = CONV, n_dense = N_DENSE, dense = DENSE, max_pool = MAX_POOLING, opt = \"adam\")\n",
    "if not f'model_{idx}.h5' in os.listdir(\".\"):\n",
    "    history = model.fit(train_big,steps_per_epoch=train_big.samples // BATCH_SIZE, epochs=100, validation_data=test_big, validation_steps=test_big.samples // BATCH_SIZE, verbose = 0, callbacks=[checkpoint, lr_reducer])"
   ]
  },
  {
   "cell_type": "code",
   "execution_count": 27,
   "metadata": {},
   "outputs": [
    {
     "name": "stdout",
     "output_type": "stream",
     "text": [
      "Train Accuracy: 0.9203  Train Loss: 0.2234\n",
      "Test Accuracy: 0.8637  Test Loss: 0.5073\n"
     ]
    }
   ],
   "source": [
    "model.load_weights(f'model_{idx}.h5')\n",
    "title = \"{} Conv {} filters {} kernel size {} dense {} neurons with MaxPooling\".format(N_CONV, CONV, KERNEL, N_DENSE, DENSE)\n",
    "if not f'model_{idx}.h5' in os.listdir(\".\"):\n",
    "    plot_loss_accuracy(history, title)\n",
    "experiment.append(title)\n",
    "(loss, acc) = model.evaluate(train_big, verbose = 0)\n",
    "results[\"Train Accuracy\"].append(acc)\n",
    "results[\"Train Loss\"].append(loss)\n",
    "results[\"Ratio\"].append(acc/(model.count_params()/100*1000))\n",
    "print(\"Train Accuracy: {:.4f}  Train Loss: {:.4f}\".format(acc,loss))\n",
    "(loss, acc) = model.evaluate(test_big, verbose = 0)\n",
    "results[\"Test Accuracy\"].append(acc)\n",
    "results[\"Test Loss\"].append(loss)\n",
    "print(\"Test Accuracy: {:.4f}  Test Loss: {:.4f}\".format(acc,loss))\n",
    "results[\"Num. Params\"].append(model.count_params())"
   ]
  },
  {
   "cell_type": "markdown",
   "metadata": {},
   "source": [
    "#### Adding Dropout"
   ]
  },
  {
   "cell_type": "code",
   "execution_count": 28,
   "metadata": {},
   "outputs": [
    {
     "name": "stdout",
     "output_type": "stream",
     "text": [
      "WARNING:tensorflow:tf.keras.mixed_precision.experimental.LossScaleOptimizer is deprecated. Please use tf.keras.mixed_precision.LossScaleOptimizer instead. Note that the non-experimental LossScaleOptimizer does not take a DynamicLossScale but instead takes the dynamic configuration directly in the constructor. For example:\n",
      "  opt = tf.keras.mixed_precision.LossScaleOptimizer(opt)\n",
      "\n"
     ]
    }
   ],
   "source": [
    "N_CONV  = 4\n",
    "CONV = 256\n",
    "KERNEL = 5\n",
    "N_DENSE = 2\n",
    "DENSE = 1024\n",
    "DROPOUT = True\n",
    "idx=10\n",
    "checkpoint = ModelCheckpoint(f'model_{idx}.h5', save_best_only=True, monitor='val_accuracy', mode='max', verbose=0)\n",
    "lr_reducer = ReduceLROnPlateau(monitor='val_accuracy', patience=10, factor=0.5, min_lr=1e-6, mode='max', verbose=1)\n",
    "\n",
    "tf.keras.backend.clear_session()\n",
    "gc.collect()\n",
    "\n",
    "model = build_model(n_conv = N_CONV, kernel_size= KERNEL, conv = CONV, n_dense = N_DENSE, dense = DENSE, dropout = DROPOUT, opt = \"adam\")\n",
    "if not f'model_{idx}.h5' in os.listdir(\".\"):\n",
    "    history = model.fit(train_big,steps_per_epoch=train_big.samples // BATCH_SIZE, epochs=100, validation_data=test_big, validation_steps=test_big.samples // BATCH_SIZE, verbose = 0, callbacks=[checkpoint, lr_reducer])"
   ]
  },
  {
   "cell_type": "code",
   "execution_count": 29,
   "metadata": {},
   "outputs": [
    {
     "name": "stdout",
     "output_type": "stream",
     "text": [
      "Train Accuracy: 0.8862  Train Loss: 0.3031\n",
      "Test Accuracy: 0.8612  Test Loss: 0.4374\n"
     ]
    }
   ],
   "source": [
    "model.load_weights(f'model_{idx}.h5')\n",
    "title = \"{} Conv {} filters {} kernel size {} dense {} neurons with 0.2 Dropout on FC\".format(N_CONV, CONV, KERNEL, N_DENSE, DENSE)\n",
    "if not f'model_{idx}.h5' in os.listdir(\".\"):\n",
    "    plot_loss_accuracy(history, title)\n",
    "experiment.append(title)\n",
    "(loss, acc) = model.evaluate(train_big, verbose = 0)\n",
    "results[\"Train Accuracy\"].append(acc)\n",
    "results[\"Train Loss\"].append(loss)\n",
    "results[\"Ratio\"].append(acc/(model.count_params()/100*1000))\n",
    "print(\"Train Accuracy: {:.4f}  Train Loss: {:.4f}\".format(acc,loss))\n",
    "(loss, acc) = model.evaluate(test_big, verbose = 0)\n",
    "results[\"Test Accuracy\"].append(acc)\n",
    "results[\"Test Loss\"].append(loss)\n",
    "print(\"Test Accuracy: {:.4f}  Test Loss: {:.4f}\".format(acc,loss))\n",
    "results[\"Num. Params\"].append(model.count_params())"
   ]
  },
  {
   "cell_type": "markdown",
   "metadata": {},
   "source": [
    "#### Adding Batch Normalization"
   ]
  },
  {
   "cell_type": "code",
   "execution_count": 30,
   "metadata": {},
   "outputs": [
    {
     "name": "stdout",
     "output_type": "stream",
     "text": [
      "WARNING:tensorflow:tf.keras.mixed_precision.experimental.LossScaleOptimizer is deprecated. Please use tf.keras.mixed_precision.LossScaleOptimizer instead. Note that the non-experimental LossScaleOptimizer does not take a DynamicLossScale but instead takes the dynamic configuration directly in the constructor. For example:\n",
      "  opt = tf.keras.mixed_precision.LossScaleOptimizer(opt)\n",
      "\n"
     ]
    }
   ],
   "source": [
    "N_CONV  = 4\n",
    "CONV = 256\n",
    "KERNEL = 5\n",
    "N_DENSE = 2\n",
    "DENSE = 1024\n",
    "BATCH_NORM = True\n",
    "idx = 11\n",
    "checkpoint = ModelCheckpoint(f'model_{idx}.h5', save_best_only=True, monitor='val_accuracy', mode='max', verbose=0)\n",
    "lr_reducer = ReduceLROnPlateau(monitor='val_accuracy', patience=10, factor=0.5, min_lr=1e-6, mode='max', verbose=1)\n",
    "\n",
    "tf.keras.backend.clear_session()\n",
    "gc.collect()\n",
    "\n",
    "model = build_model(n_conv = N_CONV, kernel_size= KERNEL, conv = CONV, n_dense = N_DENSE, dense = DENSE, batch_norm = BATCH_NORM, opt = \"adam\")\n",
    "if not f'model_{idx}.h5' in os.listdir(\".\"):\n",
    "    history = model.fit(train_big,steps_per_epoch=train_big.samples // BATCH_SIZE, epochs=100, validation_data=test_big, validation_steps=test_big.samples // BATCH_SIZE, verbose = 0, callbacks=[checkpoint, lr_reducer])"
   ]
  },
  {
   "cell_type": "code",
   "execution_count": 31,
   "metadata": {},
   "outputs": [
    {
     "name": "stdout",
     "output_type": "stream",
     "text": [
      "Train Accuracy: 0.9872  Train Loss: 0.0613\n",
      "Test Accuracy: 0.8786  Test Loss: 0.4408\n"
     ]
    }
   ],
   "source": [
    "model.load_weights(f'model_{idx}.h5')\n",
    "title = \"{} Conv {} filters {} kernel size {} dense {} neurons with BatchNorm\".format(N_CONV, CONV, KERNEL, N_DENSE, DENSE)\n",
    "if not f'model_{idx}.h5' in os.listdir(\".\"):\n",
    "    plot_loss_accuracy(history, title)\n",
    "experiment.append(title)\n",
    "(loss, acc) = model.evaluate(train_big, verbose = 0)\n",
    "results[\"Train Accuracy\"].append(acc)\n",
    "results[\"Train Loss\"].append(loss)\n",
    "results[\"Ratio\"].append(acc/(model.count_params()/100*1000))\n",
    "print(\"Train Accuracy: {:.4f}  Train Loss: {:.4f}\".format(acc,loss))\n",
    "(loss, acc) = model.evaluate(test_big, verbose = 0)\n",
    "results[\"Test Accuracy\"].append(acc)\n",
    "results[\"Test Loss\"].append(loss)\n",
    "print(\"Test Accuracy: {:.4f}  Test Loss: {:.4f}\".format(acc,loss))\n",
    "results[\"Num. Params\"].append(model.count_params())"
   ]
  },
  {
   "cell_type": "markdown",
   "metadata": {},
   "source": [
    "#### Adding MaxPooling and Dropout"
   ]
  },
  {
   "cell_type": "code",
   "execution_count": 32,
   "metadata": {},
   "outputs": [
    {
     "name": "stdout",
     "output_type": "stream",
     "text": [
      "WARNING:tensorflow:tf.keras.mixed_precision.experimental.LossScaleOptimizer is deprecated. Please use tf.keras.mixed_precision.LossScaleOptimizer instead. Note that the non-experimental LossScaleOptimizer does not take a DynamicLossScale but instead takes the dynamic configuration directly in the constructor. For example:\n",
      "  opt = tf.keras.mixed_precision.LossScaleOptimizer(opt)\n",
      "\n"
     ]
    }
   ],
   "source": [
    "N_CONV  = 4\n",
    "CONV = 256\n",
    "KERNEL = 5\n",
    "N_DENSE = 2\n",
    "DENSE = 1024\n",
    "MAX_POOLING = True\n",
    "DROPOUT = True\n",
    "idx = 12\n",
    "checkpoint = ModelCheckpoint(f'model_{idx}.h5', save_best_only=True, monitor='val_accuracy', mode='max', verbose=0)\n",
    "lr_reducer = ReduceLROnPlateau(monitor='val_accuracy', patience=10, factor=0.5, min_lr=1e-6, mode='max', verbose=1)\n",
    "\n",
    "tf.keras.backend.clear_session()\n",
    "gc.collect()\n",
    "\n",
    "model = build_model(n_conv = N_CONV, kernel_size= KERNEL, conv = CONV, n_dense = N_DENSE, dense = DENSE, max_pool = MAX_POOLING, dropout = DROPOUT, opt = \"adam\")\n",
    "if not f'model_{idx}.h5' in os.listdir(\".\"):\n",
    "    history = model.fit(train_big,steps_per_epoch=train_big.samples // BATCH_SIZE, epochs=100, validation_data=test_big, validation_steps=test_big.samples // BATCH_SIZE, verbose = 0, callbacks=[checkpoint, lr_reducer])"
   ]
  },
  {
   "cell_type": "code",
   "execution_count": 33,
   "metadata": {},
   "outputs": [
    {
     "name": "stdout",
     "output_type": "stream",
     "text": [
      "Train Accuracy: 0.9266  Train Loss: 0.1964\n",
      "Test Accuracy: 0.8674  Test Loss: 0.4081\n"
     ]
    }
   ],
   "source": [
    "model.load_weights(f'model_{idx}.h5')\n",
    "title = \"Conv {} filters {} kernel size {} dense {} neurons with MaxPooling and Dropout\".format(N_CONV, CONV, KERNEL, N_DENSE, DENSE)\n",
    "if not f'model_{idx}.h5' in os.listdir(\".\"):\n",
    "    plot_loss_accuracy(history, title)\n",
    "experiment.append(title)\n",
    "(loss, acc) = model.evaluate(train_big, verbose = 0)\n",
    "results[\"Train Accuracy\"].append(acc)\n",
    "results[\"Train Loss\"].append(loss)\n",
    "results[\"Ratio\"].append(acc/(model.count_params()/100*1000))\n",
    "print(\"Train Accuracy: {:.4f}  Train Loss: {:.4f}\".format(acc,loss))\n",
    "(loss, acc) = model.evaluate(test_big, verbose = 0)\n",
    "results[\"Test Accuracy\"].append(acc)\n",
    "results[\"Test Loss\"].append(loss)\n",
    "print(\"Test Accuracy: {:.4f}  Test Loss: {:.4f}\".format(acc,loss))\n",
    "results[\"Num. Params\"].append(model.count_params())"
   ]
  },
  {
   "cell_type": "markdown",
   "metadata": {},
   "source": [
    "#### Adding MaxPooling and Batch Normalization"
   ]
  },
  {
   "cell_type": "code",
   "execution_count": 34,
   "metadata": {},
   "outputs": [
    {
     "name": "stdout",
     "output_type": "stream",
     "text": [
      "WARNING:tensorflow:tf.keras.mixed_precision.experimental.LossScaleOptimizer is deprecated. Please use tf.keras.mixed_precision.LossScaleOptimizer instead. Note that the non-experimental LossScaleOptimizer does not take a DynamicLossScale but instead takes the dynamic configuration directly in the constructor. For example:\n",
      "  opt = tf.keras.mixed_precision.LossScaleOptimizer(opt)\n",
      "\n"
     ]
    }
   ],
   "source": [
    "N_CONV  = 4\n",
    "CONV = 256\n",
    "KERNEL = 5\n",
    "N_DENSE = 2\n",
    "DENSE = 1024\n",
    "MAX_POOLING = True\n",
    "BATCH_NORM = True\n",
    "idx = 13\n",
    "checkpoint = ModelCheckpoint(f'model_{idx}.h5', save_best_only=True, monitor='val_accuracy', mode='max', verbose=0)\n",
    "lr_reducer = ReduceLROnPlateau(monitor='val_accuracy', patience=10, factor=0.5, min_lr=1e-6, mode='max', verbose=1)\n",
    "\n",
    "tf.keras.backend.clear_session()\n",
    "gc.collect()\n",
    "\n",
    "model = build_model(n_conv = N_CONV, kernel_size= KERNEL, conv = CONV, n_dense = N_DENSE, dense = DENSE, max_pool = MAX_POOLING, batch_norm = BATCH_NORM, opt = \"adam\")\n",
    "if not f'model_{idx}.h5' in os.listdir(\".\"):\n",
    "    history = model.fit(train_big,steps_per_epoch=train_big.samples // BATCH_SIZE, epochs=100, validation_data=test_big, validation_steps=test_big.samples // BATCH_SIZE, verbose = 0, callbacks=[checkpoint, lr_reducer])"
   ]
  },
  {
   "cell_type": "code",
   "execution_count": 35,
   "metadata": {},
   "outputs": [
    {
     "name": "stdout",
     "output_type": "stream",
     "text": [
      "Train Accuracy: 0.9702  Train Loss: 0.1024\n",
      "Test Accuracy: 0.8872  Test Loss: 0.3982\n"
     ]
    }
   ],
   "source": [
    "model.load_weights(f'model_{idx}.h5')\n",
    "title = \"{} Conv {} filters {} kernel size {} dense {} neurons with MaxPooling and BatchNorm\".format(N_CONV, CONV, KERNEL, N_DENSE, DENSE)\n",
    "if not f'model_{idx}.h5' in os.listdir(\".\"):\n",
    "    plot_loss_accuracy(history, title)\n",
    "experiment.append(title)\n",
    "(loss, acc) = model.evaluate(train_big, verbose = 0)\n",
    "results[\"Train Accuracy\"].append(acc)\n",
    "results[\"Train Loss\"].append(loss)\n",
    "results[\"Ratio\"].append(acc/(model.count_params()/100*1000))\n",
    "print(\"Train Accuracy: {:.4f}  Train Loss: {:.4f}\".format(acc,loss))\n",
    "(loss, acc) = model.evaluate(test_big, verbose = 0)\n",
    "results[\"Test Accuracy\"].append(acc)\n",
    "results[\"Test Loss\"].append(loss)\n",
    "print(\"Test Accuracy: {:.4f}  Test Loss: {:.4f}\".format(acc,loss))\n",
    "results[\"Num. Params\"].append(model.count_params())"
   ]
  },
  {
   "cell_type": "markdown",
   "metadata": {},
   "source": [
    "#### Adding Batch Normalization and Dropout"
   ]
  },
  {
   "cell_type": "code",
   "execution_count": 36,
   "metadata": {},
   "outputs": [
    {
     "name": "stdout",
     "output_type": "stream",
     "text": [
      "WARNING:tensorflow:tf.keras.mixed_precision.experimental.LossScaleOptimizer is deprecated. Please use tf.keras.mixed_precision.LossScaleOptimizer instead. Note that the non-experimental LossScaleOptimizer does not take a DynamicLossScale but instead takes the dynamic configuration directly in the constructor. For example:\n",
      "  opt = tf.keras.mixed_precision.LossScaleOptimizer(opt)\n",
      "\n"
     ]
    }
   ],
   "source": [
    "N_CONV  = 4\n",
    "CONV = 256\n",
    "KERNEL = 5\n",
    "N_DENSE = 2\n",
    "DENSE = 1024\n",
    "DROPOUT = True\n",
    "BATCH_NORM = True\n",
    "idx = 14\n",
    "checkpoint = ModelCheckpoint(f'model_{idx}.h5', save_best_only=True, monitor='val_accuracy', mode='max', verbose=0)\n",
    "lr_reducer = ReduceLROnPlateau(monitor='val_accuracy', patience=10, factor=0.5, min_lr=1e-6, mode='max', verbose=1)\n",
    "\n",
    "tf.keras.backend.clear_session()\n",
    "gc.collect()\n",
    "\n",
    "model = build_model(n_conv = N_CONV, kernel_size= KERNEL, conv = CONV, n_dense = N_DENSE, dense = DENSE, max_pool = MAX_POOLING, dropout = DROPOUT, opt = \"adam\")\n",
    "if not f'model_{idx}.h5' in os.listdir(\".\"):\n",
    "    history = model.fit(train_big,steps_per_epoch=train_big.samples // BATCH_SIZE, epochs=100, validation_data=test_big, validation_steps=test_big.samples // BATCH_SIZE, verbose = 0, callbacks=[checkpoint, lr_reducer])"
   ]
  },
  {
   "cell_type": "code",
   "execution_count": 37,
   "metadata": {},
   "outputs": [
    {
     "name": "stdout",
     "output_type": "stream",
     "text": [
      "Train Accuracy: 0.9224  Train Loss: 0.2266\n",
      "Test Accuracy: 0.8649  Test Loss: 0.4379\n"
     ]
    }
   ],
   "source": [
    "model.load_weights(f'model_{idx}.h5')\n",
    "title = \"{} Conv {} filters {} kernel size {} dense {} neurons with MaxPooling and Dropout\".format(N_CONV, CONV, KERNEL, N_DENSE, DENSE)\n",
    "if not f'model_{idx}.h5' in os.listdir(\".\"):\n",
    "    plot_loss_accuracy(history, title)\n",
    "experiment.append(title)\n",
    "(loss, acc) = model.evaluate(train_big, verbose = 0)\n",
    "results[\"Train Accuracy\"].append(acc)\n",
    "results[\"Train Loss\"].append(loss)\n",
    "results[\"Ratio\"].append(acc/(model.count_params()/100*1000))\n",
    "print(\"Train Accuracy: {:.4f}  Train Loss: {:.4f}\".format(acc,loss))\n",
    "(loss, acc) = model.evaluate(test_big, verbose = 0)\n",
    "results[\"Test Accuracy\"].append(acc)\n",
    "results[\"Test Loss\"].append(loss)\n",
    "print(\"Test Accuracy: {:.4f}  Test Loss: {:.4f}\".format(acc,loss))\n",
    "results[\"Num. Params\"].append(model.count_params())"
   ]
  },
  {
   "cell_type": "markdown",
   "metadata": {},
   "source": [
    "#### Adding Batch Normalization, MaxPooling and Dropout"
   ]
  },
  {
   "cell_type": "code",
   "execution_count": 38,
   "metadata": {},
   "outputs": [
    {
     "name": "stdout",
     "output_type": "stream",
     "text": [
      "WARNING:tensorflow:tf.keras.mixed_precision.experimental.LossScaleOptimizer is deprecated. Please use tf.keras.mixed_precision.LossScaleOptimizer instead. Note that the non-experimental LossScaleOptimizer does not take a DynamicLossScale but instead takes the dynamic configuration directly in the constructor. For example:\n",
      "  opt = tf.keras.mixed_precision.LossScaleOptimizer(opt)\n",
      "\n"
     ]
    }
   ],
   "source": [
    "N_CONV  = 4\n",
    "CONV = 256\n",
    "KERNEL = 5\n",
    "N_DENSE = 2\n",
    "DENSE = 1024\n",
    "DROPOUT = True\n",
    "BATCH_NORM = True\n",
    "MAX_POOLING = True\n",
    "idx = 15\n",
    "checkpoint = ModelCheckpoint(f'model_{idx}.h5', save_best_only=True, monitor='val_accuracy', mode='max', verbose=0)\n",
    "lr_reducer = ReduceLROnPlateau(monitor='val_accuracy', patience=10, factor=0.5, min_lr=1e-6, mode='max', verbose=1)\n",
    "\n",
    "tf.keras.backend.clear_session()\n",
    "gc.collect()\n",
    "\n",
    "model = build_model(n_conv = N_CONV, kernel_size= KERNEL, conv = CONV, n_dense = N_DENSE, dense = DENSE, max_pool = MAX_POOLING, dropout = DROPOUT, batch_norm = BATCH_NORM, opt = \"adam\")\n",
    "if not f'model_{idx}.h5' in os.listdir(\".\"):\n",
    "    history = model.fit(train_big,steps_per_epoch=train_big.samples // BATCH_SIZE, epochs=100, validation_data=test_big, validation_steps=test_big.samples // BATCH_SIZE,  verbose = 0, callbacks=[checkpoint, lr_reducer])"
   ]
  },
  {
   "cell_type": "code",
   "execution_count": 39,
   "metadata": {},
   "outputs": [
    {
     "name": "stdout",
     "output_type": "stream",
     "text": [
      "Train Accuracy: 0.9601  Train Loss: 0.1276\n",
      "Test Accuracy: 0.8897  Test Loss: 0.3572\n"
     ]
    }
   ],
   "source": [
    "model.load_weights(f'model_{idx}.h5')\n",
    "title = \"{} Conv {} filters {} kernel size {} dense {} neurons with BatchNorm, MaxPooling and Dropout\".format(N_CONV, CONV, KERNEL, N_DENSE, DENSE)\n",
    "if not f'model_{idx}.h5' in os.listdir(\".\"):\n",
    "    plot_loss_accuracy(history, title)\n",
    "experiment.append(title)\n",
    "(loss, acc) = model.evaluate(train_big, verbose = 0)\n",
    "results[\"Train Accuracy\"].append(acc)\n",
    "results[\"Train Loss\"].append(loss)\n",
    "results[\"Ratio\"].append(acc/(model.count_params()/100*1000))\n",
    "print(\"Train Accuracy: {:.4f}  Train Loss: {:.4f}\".format(acc,loss))\n",
    "(loss, acc) = model.evaluate(test_big, verbose = 0)\n",
    "results[\"Test Accuracy\"].append(acc)\n",
    "results[\"Test Loss\"].append(loss)\n",
    "print(\"Test Accuracy: {:.4f}  Test Loss: {:.4f}\".format(acc,loss))\n",
    "results[\"Num. Params\"].append(model.count_params())"
   ]
  },
  {
   "cell_type": "markdown",
   "metadata": {},
   "source": [
    "# Checking Kernel Size"
   ]
  },
  {
   "cell_type": "markdown",
   "metadata": {},
   "source": [
    "#### 3 Kernel Size"
   ]
  },
  {
   "cell_type": "code",
   "execution_count": 40,
   "metadata": {},
   "outputs": [
    {
     "name": "stdout",
     "output_type": "stream",
     "text": [
      "WARNING:tensorflow:tf.keras.mixed_precision.experimental.LossScaleOptimizer is deprecated. Please use tf.keras.mixed_precision.LossScaleOptimizer instead. Note that the non-experimental LossScaleOptimizer does not take a DynamicLossScale but instead takes the dynamic configuration directly in the constructor. For example:\n",
      "  opt = tf.keras.mixed_precision.LossScaleOptimizer(opt)\n",
      "\n"
     ]
    }
   ],
   "source": [
    "N_CONV  = 4\n",
    "CONV = 256\n",
    "KERNEL = 3\n",
    "N_DENSE = 2\n",
    "DENSE = 1024\n",
    "DROPOUT = True\n",
    "BATCH_NORM = False\n",
    "MAX_POOLING = False\n",
    "idx = 16\n",
    "checkpoint = ModelCheckpoint(f'model_{idx}.h5', save_best_only=True, monitor='val_accuracy', mode='max', verbose=0)\n",
    "lr_reducer = ReduceLROnPlateau(monitor='val_accuracy', patience=10, factor=0.5, min_lr=1e-6, mode='max', verbose=1)\n",
    "\n",
    "tf.keras.backend.clear_session()\n",
    "gc.collect()\n",
    "\n",
    "model = build_model(n_conv = N_CONV, kernel_size= KERNEL, conv = CONV, n_dense = N_DENSE, dense = DENSE, max_pool = MAX_POOLING, dropout = DROPOUT, batch_norm = BATCH_NORM, opt = \"adam\")\n",
    "if not f'model_{idx}.h5' in os.listdir(\".\"):\n",
    "    history = model.fit(train_big,steps_per_epoch=train_big.samples // BATCH_SIZE, epochs=100, validation_data=test_big, validation_steps=test_big.samples // BATCH_SIZE,  verbose = 0, callbacks=[checkpoint, lr_reducer])"
   ]
  },
  {
   "cell_type": "code",
   "execution_count": 41,
   "metadata": {},
   "outputs": [
    {
     "name": "stdout",
     "output_type": "stream",
     "text": [
      "Train Accuracy: 0.8995  Train Loss: 0.3013\n",
      "Test Accuracy: 0.8439  Test Loss: 0.5045\n"
     ]
    }
   ],
   "source": [
    "model.load_weights(f'model_{idx}.h5')\n",
    "title = \"{} Conv {} filters {} kernel size {} dense {} neurons with 0.2 Dropout on FC\".format(N_CONV, CONV, KERNEL, N_DENSE, DENSE)\n",
    "if not f'model_{idx}.h5' in os.listdir(\".\"):\n",
    "    plot_loss_accuracy(history, title)\n",
    "experiment.append(title)\n",
    "(loss, acc) = model.evaluate(train_big, verbose = 0)\n",
    "results[\"Train Accuracy\"].append(acc)\n",
    "results[\"Train Loss\"].append(loss)\n",
    "results[\"Ratio\"].append(acc/(model.count_params()/100*1000))\n",
    "print(\"Train Accuracy: {:.4f}  Train Loss: {:.4f}\".format(acc,loss))\n",
    "(loss, acc) = model.evaluate(test_big, verbose = 0)\n",
    "results[\"Test Accuracy\"].append(acc)\n",
    "results[\"Test Loss\"].append(loss)\n",
    "print(\"Test Accuracy: {:.4f}  Test Loss: {:.4f}\".format(acc,loss))\n",
    "results[\"Num. Params\"].append(model.count_params())"
   ]
  },
  {
   "cell_type": "markdown",
   "metadata": {},
   "source": [
    "#### 7 Kernel Size"
   ]
  },
  {
   "cell_type": "code",
   "execution_count": 42,
   "metadata": {},
   "outputs": [
    {
     "name": "stdout",
     "output_type": "stream",
     "text": [
      "WARNING:tensorflow:tf.keras.mixed_precision.experimental.LossScaleOptimizer is deprecated. Please use tf.keras.mixed_precision.LossScaleOptimizer instead. Note that the non-experimental LossScaleOptimizer does not take a DynamicLossScale but instead takes the dynamic configuration directly in the constructor. For example:\n",
      "  opt = tf.keras.mixed_precision.LossScaleOptimizer(opt)\n",
      "\n"
     ]
    }
   ],
   "source": [
    "N_CONV  = 4\n",
    "CONV = 256\n",
    "KERNEL = 7\n",
    "N_DENSE = 2\n",
    "DENSE = 1024\n",
    "DROPOUT = True\n",
    "BATCH_NORM = False\n",
    "MAX_POOLING = False\n",
    "idx = 17\n",
    "checkpoint = ModelCheckpoint(f'model_{idx}.h5', save_best_only=True, monitor='val_accuracy', mode='max', verbose=0)\n",
    "lr_reducer = ReduceLROnPlateau(monitor='val_accuracy', patience=10, factor=0.5, min_lr=1e-6, mode='max', verbose=1)\n",
    "\n",
    "tf.keras.backend.clear_session()\n",
    "gc.collect()\n",
    "\n",
    "model = build_model(n_conv = N_CONV, kernel_size= KERNEL, conv = CONV, n_dense = N_DENSE, dense = DENSE, max_pool = MAX_POOLING, dropout = DROPOUT, batch_norm = BATCH_NORM, opt = \"adam\")\n",
    "if not f'model_{idx}.h5' in os.listdir(\".\"):\n",
    "    history = model.fit(train_big,steps_per_epoch=train_big.samples // BATCH_SIZE, epochs=100, validation_data=test_big, validation_steps=test_big.samples // BATCH_SIZE,  verbose = 0, callbacks=[checkpoint, lr_reducer])"
   ]
  },
  {
   "cell_type": "code",
   "execution_count": 43,
   "metadata": {},
   "outputs": [
    {
     "name": "stdout",
     "output_type": "stream",
     "text": [
      "Train Accuracy: 0.8299  Train Loss: 0.5042\n",
      "Test Accuracy: 0.8290  Test Loss: 0.5557\n"
     ]
    }
   ],
   "source": [
    "model.load_weights(f'model_{idx}.h5')\n",
    "title = \"{} Conv {} filters {} kernel size {} dense {} neurons with 0.2 Dropout on FC\".format(N_CONV, CONV, KERNEL, N_DENSE, DENSE)\n",
    "if not f'model_{idx}.h5' in os.listdir(\".\"):\n",
    "    plot_loss_accuracy(history, title)\n",
    "experiment.append(title)\n",
    "(loss, acc) = model.evaluate(train_big, verbose = 0)\n",
    "results[\"Train Accuracy\"].append(acc)\n",
    "results[\"Train Loss\"].append(loss)\n",
    "results[\"Ratio\"].append(acc/(model.count_params()/100*1000))\n",
    "print(\"Train Accuracy: {:.4f}  Train Loss: {:.4f}\".format(acc,loss))\n",
    "(loss, acc) = model.evaluate(test_big, verbose = 0)\n",
    "results[\"Test Accuracy\"].append(acc)\n",
    "results[\"Test Loss\"].append(loss)\n",
    "print(\"Test Accuracy: {:.4f}  Test Loss: {:.4f}\".format(acc,loss))\n",
    "results[\"Num. Params\"].append(model.count_params())"
   ]
  },
  {
   "cell_type": "markdown",
   "metadata": {},
   "source": [
    "#### 9 Kernel Size"
   ]
  },
  {
   "cell_type": "code",
   "execution_count": 44,
   "metadata": {},
   "outputs": [
    {
     "name": "stdout",
     "output_type": "stream",
     "text": [
      "WARNING:tensorflow:tf.keras.mixed_precision.experimental.LossScaleOptimizer is deprecated. Please use tf.keras.mixed_precision.LossScaleOptimizer instead. Note that the non-experimental LossScaleOptimizer does not take a DynamicLossScale but instead takes the dynamic configuration directly in the constructor. For example:\n",
      "  opt = tf.keras.mixed_precision.LossScaleOptimizer(opt)\n",
      "\n"
     ]
    }
   ],
   "source": [
    "N_CONV  = 4\n",
    "CONV = 256\n",
    "KERNEL = 9\n",
    "N_DENSE = 2\n",
    "DENSE = 1024\n",
    "DROPOUT = True\n",
    "BATCH_NORM = False\n",
    "MAX_POOLING = False\n",
    "idx = 18\n",
    "checkpoint = ModelCheckpoint(f'model_{idx}.h5', save_best_only=True, monitor='val_accuracy', mode='max', verbose=0)\n",
    "lr_reducer = ReduceLROnPlateau(monitor='val_accuracy', patience=10, factor=0.5, min_lr=1e-6, mode='max', verbose=1)\n",
    "\n",
    "tf.keras.backend.clear_session()\n",
    "gc.collect()\n",
    "\n",
    "model = build_model(n_conv = N_CONV, kernel_size= KERNEL, conv = CONV, n_dense = N_DENSE, dense = DENSE, max_pool = MAX_POOLING, dropout = DROPOUT, batch_norm = BATCH_NORM, opt = \"adam\")\n",
    "if not f'model_{idx}.h5' in os.listdir(\".\"):\n",
    "    history = model.fit(train_big,steps_per_epoch=train_big.samples // BATCH_SIZE, epochs=100, validation_data=test_big, validation_steps=test_big.samples // BATCH_SIZE,  verbose = 0, callbacks=[checkpoint, lr_reducer])"
   ]
  },
  {
   "cell_type": "code",
   "execution_count": 45,
   "metadata": {},
   "outputs": [
    {
     "name": "stdout",
     "output_type": "stream",
     "text": [
      "Train Accuracy: 0.7576  Train Loss: 0.6854\n",
      "Test Accuracy: 0.7633  Test Loss: 0.7265\n"
     ]
    }
   ],
   "source": [
    "model.load_weights(f'model_{idx}.h5')\n",
    "title = \"{} Conv {} filters {} kernel size {} dense {} neurons with 0.2 Dropout on FC\".format(N_CONV, CONV, KERNEL, N_DENSE, DENSE)\n",
    "if not f'model_{idx}.h5' in os.listdir(\".\"):\n",
    "    plot_loss_accuracy(history, title)\n",
    "experiment.append(title)\n",
    "(loss, acc) = model.evaluate(train_big, verbose = 0)\n",
    "results[\"Train Accuracy\"].append(acc)\n",
    "results[\"Train Loss\"].append(loss)\n",
    "results[\"Ratio\"].append(acc/(model.count_params()/100*1000))\n",
    "print(\"Train Accuracy: {:.4f}  Train Loss: {:.4f}\".format(acc,loss))\n",
    "(loss, acc) = model.evaluate(test_big, verbose = 0)\n",
    "results[\"Test Accuracy\"].append(acc)\n",
    "results[\"Test Loss\"].append(loss)\n",
    "print(\"Test Accuracy: {:.4f}  Test Loss: {:.4f}\".format(acc,loss))\n",
    "results[\"Num. Params\"].append(model.count_params())"
   ]
  },
  {
   "cell_type": "markdown",
   "metadata": {},
   "source": [
    "## Build Model Similar to Literature"
   ]
  },
  {
   "cell_type": "code",
   "execution_count": 46,
   "metadata": {},
   "outputs": [],
   "source": [
    "def block(conv, n_filters, n_conv):\n",
    "    for _ in range(n_conv):\n",
    "        conv = Conv2D(n_filters, (3,3), padding = \"same\", activation = \"relu\")(conv)\n",
    "    \n",
    "    conv = MaxPooling2D((2,2), strides=(2,2))(conv)\n",
    "    \n",
    "    return conv\n",
    "\n",
    "def build_block_model():\n",
    "    # Input\n",
    "    visible = Input(shape=(IMG_SIZE, IMG_SIZE, 3))\n",
    "    \n",
    "    # Features\n",
    "    layer = block(visible, 64, 2)\n",
    "    layer = block(layer, 128, 2)\n",
    "    layer = block(layer, 256, 4)\n",
    "    \n",
    "    # Prediction\n",
    "    x = GlobalAveragePooling2D()(layer)\n",
    "    x = Dense(4096, activation='relu')(x)\n",
    "    x = Dropout(0.2)(x)\n",
    "    x = Dense(4096, activation='relu')(x)\n",
    "    x = Dropout(0.2)(x)\n",
    "    x = Dense(1000, activation='relu')(x)\n",
    "    x = Dropout(0.2)(x)\n",
    "    pred = Dense(len(CLASSES), activation='softmax')(x)\n",
    "    \n",
    "    # Final model\n",
    "    model = Model(inputs=visible, outputs=pred)\n",
    "    model.compile(optimizer=\"adam\", loss='categorical_crossentropy',metrics=[\"accuracy\"])\n",
    "\n",
    "    return model"
   ]
  },
  {
   "cell_type": "code",
   "execution_count": 47,
   "metadata": {},
   "outputs": [
    {
     "name": "stdout",
     "output_type": "stream",
     "text": [
      "Loading: ./datasets/MIT_split\n",
      "Found 1881 images belonging to 8 classes.\n",
      "Found 807 images belonging to 8 classes.\n",
      "WARNING:tensorflow:tf.keras.mixed_precision.experimental.LossScaleOptimizer is deprecated. Please use tf.keras.mixed_precision.LossScaleOptimizer instead. Note that the non-experimental LossScaleOptimizer does not take a DynamicLossScale but instead takes the dynamic configuration directly in the constructor. For example:\n",
      "  opt = tf.keras.mixed_precision.LossScaleOptimizer(opt)\n",
      "\n"
     ]
    }
   ],
   "source": [
    "IMG_SIZE = 64\n",
    "idx = 19\n",
    "checkpoint = ModelCheckpoint(f'model_{idx}.h5', save_best_only=True, monitor='val_accuracy', mode='max', verbose=0)\n",
    "lr_reducer = ReduceLROnPlateau(monitor='val_accuracy', patience=10, factor=0.5, min_lr=1e-6, mode='max', verbose=1)\n",
    "\n",
    "tf.keras.backend.clear_session()\n",
    "gc.collect()\n",
    "\n",
    "train_big, test_big = get_dataset(DATA_DIR_BIG, aug = True)\n",
    "model = build_block_model()\n",
    "if not f'model_{idx}.h5' in os.listdir(\".\"):\n",
    "    history = model.fit(train_big,steps_per_epoch=train_big.samples // BATCH_SIZE, epochs=100, validation_data=test_big, validation_steps=test_big.samples // BATCH_SIZE, callbacks=[checkpoint, lr_reducer])"
   ]
  },
  {
   "cell_type": "code",
   "execution_count": 48,
   "metadata": {},
   "outputs": [
    {
     "name": "stdout",
     "output_type": "stream",
     "text": [
      "Train Accuracy: 0.9522  Train Loss: 0.1410\n",
      "Test Accuracy: 0.8786  Test Loss: 0.4595\n",
      "Ration: 3.924048433857002e-09 \n"
     ]
    }
   ],
   "source": [
    "model.load_weights(f'model_{idx}.h5')\n",
    "title = \"3 VGGish Blocks with 0.2 Dropout\"\n",
    "if not f'model_{idx}.h5' in os.listdir(\".\"):\n",
    "    plot_loss_accuracy(history, title)\n",
    "experiment.append(title)\n",
    "(loss, acc) = model.evaluate(train_big, verbose = 0)\n",
    "results[\"Train Accuracy\"].append(acc)\n",
    "results[\"Train Loss\"].append(loss)\n",
    "results[\"Ratio\"].append(acc/(model.count_params()/100*1000))\n",
    "print(\"Train Accuracy: {:.4f}  Train Loss: {:.4f}\".format(acc,loss))\n",
    "(loss, acc) = model.evaluate(test_big, verbose = 0)\n",
    "results[\"Test Accuracy\"].append(acc)\n",
    "results[\"Test Loss\"].append(loss)\n",
    "print(\"Test Accuracy: {:.4f}  Test Loss: {:.4f}\".format(acc,loss))\n",
    "print(\"Ration: {} \".format(results[\"Ratio\"][-1]))\n",
    "results[\"Num. Params\"].append(model.count_params())"
   ]
  },
  {
   "cell_type": "code",
   "execution_count": null,
   "metadata": {},
   "outputs": [],
   "source": []
  },
  {
   "cell_type": "code",
   "execution_count": null,
   "metadata": {},
   "outputs": [],
   "source": []
  },
  {
   "cell_type": "markdown",
   "metadata": {},
   "source": [
    "## Summarizing all the experiments"
   ]
  },
  {
   "cell_type": "code",
   "execution_count": 49,
   "metadata": {},
   "outputs": [
    {
     "data": {
      "text/html": [
       "<div>\n",
       "<style scoped>\n",
       "    .dataframe tbody tr th:only-of-type {\n",
       "        vertical-align: middle;\n",
       "    }\n",
       "\n",
       "    .dataframe tbody tr th {\n",
       "        vertical-align: top;\n",
       "    }\n",
       "\n",
       "    .dataframe thead th {\n",
       "        text-align: right;\n",
       "    }\n",
       "</style>\n",
       "<table border=\"1\" class=\"dataframe\">\n",
       "  <thead>\n",
       "    <tr style=\"text-align: right;\">\n",
       "      <th></th>\n",
       "      <th>Model</th>\n",
       "      <th>Train Accuracy</th>\n",
       "      <th>Test Accuracy</th>\n",
       "      <th>Train Loss</th>\n",
       "      <th>Test Loss</th>\n",
       "      <th>Num. Params</th>\n",
       "      <th>Ratio</th>\n",
       "    </tr>\n",
       "  </thead>\n",
       "  <tbody>\n",
       "    <tr>\n",
       "      <th>1 Conv 64 filters 5 kernel size 1 dense 1024 neurons</th>\n",
       "      <td>Model 0</td>\n",
       "      <td>0.613503</td>\n",
       "      <td>0.655514</td>\n",
       "      <td>1.075764</td>\n",
       "      <td>1.001122</td>\n",
       "      <td>79624</td>\n",
       "      <td>7.705007e-07</td>\n",
       "    </tr>\n",
       "    <tr>\n",
       "      <th>2 Conv 64 filters 5 kernel size 1 dense 1024 neurons</th>\n",
       "      <td>Model 1</td>\n",
       "      <td>0.736310</td>\n",
       "      <td>0.774473</td>\n",
       "      <td>0.741201</td>\n",
       "      <td>0.683470</td>\n",
       "      <td>182088</td>\n",
       "      <td>4.043707e-07</td>\n",
       "    </tr>\n",
       "    <tr>\n",
       "      <th>4 Conv 64 filters 5 kernel size 1 dense 1024 neurons</th>\n",
       "      <td>Model 2</td>\n",
       "      <td>0.856991</td>\n",
       "      <td>0.850062</td>\n",
       "      <td>0.419730</td>\n",
       "      <td>0.494306</td>\n",
       "      <td>387016</td>\n",
       "      <td>2.214355e-07</td>\n",
       "    </tr>\n",
       "    <tr>\n",
       "      <th>8 Conv 64 filters 5 kernel size 1 dense 1024 neurons</th>\n",
       "      <td>Model 3</td>\n",
       "      <td>0.867092</td>\n",
       "      <td>0.842627</td>\n",
       "      <td>0.386379</td>\n",
       "      <td>0.490809</td>\n",
       "      <td>796872</td>\n",
       "      <td>1.088119e-07</td>\n",
       "    </tr>\n",
       "    <tr>\n",
       "      <th>4 Conv 64 filters 5 kernel size 2 dense 1024 neurons</th>\n",
       "      <td>Model 4</td>\n",
       "      <td>0.897395</td>\n",
       "      <td>0.853779</td>\n",
       "      <td>0.303307</td>\n",
       "      <td>0.460579</td>\n",
       "      <td>1436616</td>\n",
       "      <td>6.246589e-08</td>\n",
       "    </tr>\n",
       "    <tr>\n",
       "      <th>4 Conv 64 filters 5 kernel size 4 dense 1024 neurons</th>\n",
       "      <td>Model 5</td>\n",
       "      <td>0.897927</td>\n",
       "      <td>0.868649</td>\n",
       "      <td>0.305947</td>\n",
       "      <td>0.442636</td>\n",
       "      <td>3535816</td>\n",
       "      <td>2.539517e-08</td>\n",
       "    </tr>\n",
       "    <tr>\n",
       "      <th>4 Conv 32 filters 5 kernel size 2 dense 1024 neurons</th>\n",
       "      <td>Model 6</td>\n",
       "      <td>0.862307</td>\n",
       "      <td>0.843866</td>\n",
       "      <td>0.408355</td>\n",
       "      <td>0.513012</td>\n",
       "      <td>1170920</td>\n",
       "      <td>7.364357e-08</td>\n",
       "    </tr>\n",
       "    <tr>\n",
       "      <th>4 Conv 128 filters 5 kernel size 2 dense 1024 neurons</th>\n",
       "      <td>Model 7</td>\n",
       "      <td>0.883041</td>\n",
       "      <td>0.862454</td>\n",
       "      <td>0.315263</td>\n",
       "      <td>0.407398</td>\n",
       "      <td>2428808</td>\n",
       "      <td>3.635697e-08</td>\n",
       "    </tr>\n",
       "    <tr>\n",
       "      <th>4 Conv 256 filters 5 kernel size 2 dense 1024 neurons</th>\n",
       "      <td>Model 8</td>\n",
       "      <td>0.870282</td>\n",
       "      <td>0.846344</td>\n",
       "      <td>0.382219</td>\n",
       "      <td>0.477707</td>\n",
       "      <td>6256392</td>\n",
       "      <td>1.391028e-08</td>\n",
       "    </tr>\n",
       "    <tr>\n",
       "      <th>4 Conv 256 filters 5 kernel size 2 dense 1024 neurons with MaxPooling</th>\n",
       "      <td>Model 9</td>\n",
       "      <td>0.920255</td>\n",
       "      <td>0.863693</td>\n",
       "      <td>0.223434</td>\n",
       "      <td>0.507280</td>\n",
       "      <td>6256392</td>\n",
       "      <td>1.470904e-08</td>\n",
       "    </tr>\n",
       "    <tr>\n",
       "      <th>4 Conv 256 filters 5 kernel size 2 dense 1024 neurons with 0.2 Dropout on FC</th>\n",
       "      <td>Model 10</td>\n",
       "      <td>0.886231</td>\n",
       "      <td>0.861214</td>\n",
       "      <td>0.303123</td>\n",
       "      <td>0.437434</td>\n",
       "      <td>6256392</td>\n",
       "      <td>1.416520e-08</td>\n",
       "    </tr>\n",
       "    <tr>\n",
       "      <th>4 Conv 256 filters 5 kernel size 2 dense 1024 neurons with BatchNorm</th>\n",
       "      <td>Model 11</td>\n",
       "      <td>0.987241</td>\n",
       "      <td>0.878563</td>\n",
       "      <td>0.061328</td>\n",
       "      <td>0.440767</td>\n",
       "      <td>6268680</td>\n",
       "      <td>1.574878e-08</td>\n",
       "    </tr>\n",
       "    <tr>\n",
       "      <th>Conv 4 filters 256 kernel size 5 dense 2 neurons with MaxPooling and Dropout</th>\n",
       "      <td>Model 12</td>\n",
       "      <td>0.926635</td>\n",
       "      <td>0.867410</td>\n",
       "      <td>0.196407</td>\n",
       "      <td>0.408125</td>\n",
       "      <td>6256392</td>\n",
       "      <td>1.481101e-08</td>\n",
       "    </tr>\n",
       "    <tr>\n",
       "      <th>4 Conv 256 filters 5 kernel size 2 dense 1024 neurons with MaxPooling and BatchNorm</th>\n",
       "      <td>Model 13</td>\n",
       "      <td>0.970229</td>\n",
       "      <td>0.887237</td>\n",
       "      <td>0.102440</td>\n",
       "      <td>0.398179</td>\n",
       "      <td>6268680</td>\n",
       "      <td>1.547740e-08</td>\n",
       "    </tr>\n",
       "    <tr>\n",
       "      <th>4 Conv 256 filters 5 kernel size 2 dense 1024 neurons with MaxPooling and Dropout</th>\n",
       "      <td>Model 14</td>\n",
       "      <td>0.922382</td>\n",
       "      <td>0.864932</td>\n",
       "      <td>0.226596</td>\n",
       "      <td>0.437865</td>\n",
       "      <td>6256392</td>\n",
       "      <td>1.474303e-08</td>\n",
       "    </tr>\n",
       "    <tr>\n",
       "      <th>4 Conv 256 filters 5 kernel size 2 dense 1024 neurons with BatchNorm, MaxPooling and Dropout</th>\n",
       "      <td>Model 15</td>\n",
       "      <td>0.960128</td>\n",
       "      <td>0.889715</td>\n",
       "      <td>0.127559</td>\n",
       "      <td>0.357219</td>\n",
       "      <td>6268680</td>\n",
       "      <td>1.531626e-08</td>\n",
       "    </tr>\n",
       "    <tr>\n",
       "      <th>4 Conv 256 filters 3 kernel size 2 dense 1024 neurons with 0.2 Dropout on FC</th>\n",
       "      <td>Model 16</td>\n",
       "      <td>0.899522</td>\n",
       "      <td>0.843866</td>\n",
       "      <td>0.301340</td>\n",
       "      <td>0.504453</td>\n",
       "      <td>3098376</td>\n",
       "      <td>2.903203e-08</td>\n",
       "    </tr>\n",
       "    <tr>\n",
       "      <th>4 Conv 256 filters 7 kernel size 2 dense 1024 neurons with 0.2 Dropout on FC</th>\n",
       "      <td>Model 17</td>\n",
       "      <td>0.829878</td>\n",
       "      <td>0.828996</td>\n",
       "      <td>0.504232</td>\n",
       "      <td>0.555701</td>\n",
       "      <td>10993416</td>\n",
       "      <td>7.548861e-09</td>\n",
       "    </tr>\n",
       "    <tr>\n",
       "      <th>4 Conv 256 filters 9 kernel size 2 dense 1024 neurons with 0.2 Dropout on FC</th>\n",
       "      <td>Model 18</td>\n",
       "      <td>0.757576</td>\n",
       "      <td>0.763321</td>\n",
       "      <td>0.685415</td>\n",
       "      <td>0.726474</td>\n",
       "      <td>17309448</td>\n",
       "      <td>4.376660e-09</td>\n",
       "    </tr>\n",
       "    <tr>\n",
       "      <th>3 VGGish Blocks with 0.2 Dropout</th>\n",
       "      <td>Model 19</td>\n",
       "      <td>0.952153</td>\n",
       "      <td>0.878563</td>\n",
       "      <td>0.141014</td>\n",
       "      <td>0.459521</td>\n",
       "      <td>24264560</td>\n",
       "      <td>3.924048e-09</td>\n",
       "    </tr>\n",
       "  </tbody>\n",
       "</table>\n",
       "</div>"
      ],
      "text/plain": [
       "                                                       Model  Train Accuracy  \\\n",
       "1 Conv 64 filters 5 kernel size 1 dense 1024 ne...   Model 0        0.613503   \n",
       "2 Conv 64 filters 5 kernel size 1 dense 1024 ne...   Model 1        0.736310   \n",
       "4 Conv 64 filters 5 kernel size 1 dense 1024 ne...   Model 2        0.856991   \n",
       "8 Conv 64 filters 5 kernel size 1 dense 1024 ne...   Model 3        0.867092   \n",
       "4 Conv 64 filters 5 kernel size 2 dense 1024 ne...   Model 4        0.897395   \n",
       "4 Conv 64 filters 5 kernel size 4 dense 1024 ne...   Model 5        0.897927   \n",
       "4 Conv 32 filters 5 kernel size 2 dense 1024 ne...   Model 6        0.862307   \n",
       "4 Conv 128 filters 5 kernel size 2 dense 1024 n...   Model 7        0.883041   \n",
       "4 Conv 256 filters 5 kernel size 2 dense 1024 n...   Model 8        0.870282   \n",
       "4 Conv 256 filters 5 kernel size 2 dense 1024 n...   Model 9        0.920255   \n",
       "4 Conv 256 filters 5 kernel size 2 dense 1024 n...  Model 10        0.886231   \n",
       "4 Conv 256 filters 5 kernel size 2 dense 1024 n...  Model 11        0.987241   \n",
       "Conv 4 filters 256 kernel size 5 dense 2 neuron...  Model 12        0.926635   \n",
       "4 Conv 256 filters 5 kernel size 2 dense 1024 n...  Model 13        0.970229   \n",
       "4 Conv 256 filters 5 kernel size 2 dense 1024 n...  Model 14        0.922382   \n",
       "4 Conv 256 filters 5 kernel size 2 dense 1024 n...  Model 15        0.960128   \n",
       "4 Conv 256 filters 3 kernel size 2 dense 1024 n...  Model 16        0.899522   \n",
       "4 Conv 256 filters 7 kernel size 2 dense 1024 n...  Model 17        0.829878   \n",
       "4 Conv 256 filters 9 kernel size 2 dense 1024 n...  Model 18        0.757576   \n",
       "3 VGGish Blocks with 0.2 Dropout                    Model 19        0.952153   \n",
       "\n",
       "                                                    Test Accuracy  Train Loss  \\\n",
       "1 Conv 64 filters 5 kernel size 1 dense 1024 ne...       0.655514    1.075764   \n",
       "2 Conv 64 filters 5 kernel size 1 dense 1024 ne...       0.774473    0.741201   \n",
       "4 Conv 64 filters 5 kernel size 1 dense 1024 ne...       0.850062    0.419730   \n",
       "8 Conv 64 filters 5 kernel size 1 dense 1024 ne...       0.842627    0.386379   \n",
       "4 Conv 64 filters 5 kernel size 2 dense 1024 ne...       0.853779    0.303307   \n",
       "4 Conv 64 filters 5 kernel size 4 dense 1024 ne...       0.868649    0.305947   \n",
       "4 Conv 32 filters 5 kernel size 2 dense 1024 ne...       0.843866    0.408355   \n",
       "4 Conv 128 filters 5 kernel size 2 dense 1024 n...       0.862454    0.315263   \n",
       "4 Conv 256 filters 5 kernel size 2 dense 1024 n...       0.846344    0.382219   \n",
       "4 Conv 256 filters 5 kernel size 2 dense 1024 n...       0.863693    0.223434   \n",
       "4 Conv 256 filters 5 kernel size 2 dense 1024 n...       0.861214    0.303123   \n",
       "4 Conv 256 filters 5 kernel size 2 dense 1024 n...       0.878563    0.061328   \n",
       "Conv 4 filters 256 kernel size 5 dense 2 neuron...       0.867410    0.196407   \n",
       "4 Conv 256 filters 5 kernel size 2 dense 1024 n...       0.887237    0.102440   \n",
       "4 Conv 256 filters 5 kernel size 2 dense 1024 n...       0.864932    0.226596   \n",
       "4 Conv 256 filters 5 kernel size 2 dense 1024 n...       0.889715    0.127559   \n",
       "4 Conv 256 filters 3 kernel size 2 dense 1024 n...       0.843866    0.301340   \n",
       "4 Conv 256 filters 7 kernel size 2 dense 1024 n...       0.828996    0.504232   \n",
       "4 Conv 256 filters 9 kernel size 2 dense 1024 n...       0.763321    0.685415   \n",
       "3 VGGish Blocks with 0.2 Dropout                         0.878563    0.141014   \n",
       "\n",
       "                                                    Test Loss  Num. Params  \\\n",
       "1 Conv 64 filters 5 kernel size 1 dense 1024 ne...   1.001122        79624   \n",
       "2 Conv 64 filters 5 kernel size 1 dense 1024 ne...   0.683470       182088   \n",
       "4 Conv 64 filters 5 kernel size 1 dense 1024 ne...   0.494306       387016   \n",
       "8 Conv 64 filters 5 kernel size 1 dense 1024 ne...   0.490809       796872   \n",
       "4 Conv 64 filters 5 kernel size 2 dense 1024 ne...   0.460579      1436616   \n",
       "4 Conv 64 filters 5 kernel size 4 dense 1024 ne...   0.442636      3535816   \n",
       "4 Conv 32 filters 5 kernel size 2 dense 1024 ne...   0.513012      1170920   \n",
       "4 Conv 128 filters 5 kernel size 2 dense 1024 n...   0.407398      2428808   \n",
       "4 Conv 256 filters 5 kernel size 2 dense 1024 n...   0.477707      6256392   \n",
       "4 Conv 256 filters 5 kernel size 2 dense 1024 n...   0.507280      6256392   \n",
       "4 Conv 256 filters 5 kernel size 2 dense 1024 n...   0.437434      6256392   \n",
       "4 Conv 256 filters 5 kernel size 2 dense 1024 n...   0.440767      6268680   \n",
       "Conv 4 filters 256 kernel size 5 dense 2 neuron...   0.408125      6256392   \n",
       "4 Conv 256 filters 5 kernel size 2 dense 1024 n...   0.398179      6268680   \n",
       "4 Conv 256 filters 5 kernel size 2 dense 1024 n...   0.437865      6256392   \n",
       "4 Conv 256 filters 5 kernel size 2 dense 1024 n...   0.357219      6268680   \n",
       "4 Conv 256 filters 3 kernel size 2 dense 1024 n...   0.504453      3098376   \n",
       "4 Conv 256 filters 7 kernel size 2 dense 1024 n...   0.555701     10993416   \n",
       "4 Conv 256 filters 9 kernel size 2 dense 1024 n...   0.726474     17309448   \n",
       "3 VGGish Blocks with 0.2 Dropout                     0.459521     24264560   \n",
       "\n",
       "                                                           Ratio  \n",
       "1 Conv 64 filters 5 kernel size 1 dense 1024 ne...  7.705007e-07  \n",
       "2 Conv 64 filters 5 kernel size 1 dense 1024 ne...  4.043707e-07  \n",
       "4 Conv 64 filters 5 kernel size 1 dense 1024 ne...  2.214355e-07  \n",
       "8 Conv 64 filters 5 kernel size 1 dense 1024 ne...  1.088119e-07  \n",
       "4 Conv 64 filters 5 kernel size 2 dense 1024 ne...  6.246589e-08  \n",
       "4 Conv 64 filters 5 kernel size 4 dense 1024 ne...  2.539517e-08  \n",
       "4 Conv 32 filters 5 kernel size 2 dense 1024 ne...  7.364357e-08  \n",
       "4 Conv 128 filters 5 kernel size 2 dense 1024 n...  3.635697e-08  \n",
       "4 Conv 256 filters 5 kernel size 2 dense 1024 n...  1.391028e-08  \n",
       "4 Conv 256 filters 5 kernel size 2 dense 1024 n...  1.470904e-08  \n",
       "4 Conv 256 filters 5 kernel size 2 dense 1024 n...  1.416520e-08  \n",
       "4 Conv 256 filters 5 kernel size 2 dense 1024 n...  1.574878e-08  \n",
       "Conv 4 filters 256 kernel size 5 dense 2 neuron...  1.481101e-08  \n",
       "4 Conv 256 filters 5 kernel size 2 dense 1024 n...  1.547740e-08  \n",
       "4 Conv 256 filters 5 kernel size 2 dense 1024 n...  1.474303e-08  \n",
       "4 Conv 256 filters 5 kernel size 2 dense 1024 n...  1.531626e-08  \n",
       "4 Conv 256 filters 3 kernel size 2 dense 1024 n...  2.903203e-08  \n",
       "4 Conv 256 filters 7 kernel size 2 dense 1024 n...  7.548861e-09  \n",
       "4 Conv 256 filters 9 kernel size 2 dense 1024 n...  4.376660e-09  \n",
       "3 VGGish Blocks with 0.2 Dropout                    3.924048e-09  "
      ]
     },
     "execution_count": 49,
     "metadata": {},
     "output_type": "execute_result"
    }
   ],
   "source": [
    "df = pd.DataFrame.from_dict(results)\n",
    "df.index = experiment\n",
    "df[\"Model\"] = [\"Model {}\".format(i) for i in range(len(experiment))]\n",
    "df[[\"Model\",\"Train Accuracy\", \"Test Accuracy\", \"Train Loss\", \"Test Loss\", \"Num. Params\", \"Ratio\"]]"
   ]
  },
  {
   "cell_type": "code",
   "execution_count": 50,
   "metadata": {},
   "outputs": [
    {
     "data": {
      "image/png": "[encoded data removed]",
      "text/plain": [
       "<Figure size 1080x1080 with 4 Axes>"
      ]
     },
     "metadata": {},
     "output_type": "display_data"
    }
   ],
   "source": [
    "fig, axes = plt.subplots(nrows=2, ncols=2)\n",
    "x = 0\n",
    "#fig.subplots_adjust(hspace=1)\n",
    "cols = list(df.columns)\n",
    "cols.remove(\"Ratio\")\n",
    "cols.remove(\"Model\")\n",
    "cols.remove(\"Num. Params\")\n",
    "\n",
    "for i, col in enumerate(cols):\n",
    "    c = df[col]\n",
    "    if \"Accuracy\" in col:\n",
    "        colors = [\"r\" if val == np.max(c) else \"b\" for val in c]\n",
    "    else:\n",
    "        colors = [\"r\" if val == np.min(c) else \"b\" for val in c]\n",
    "        \n",
    "    if i == 2:\n",
    "        x = 1\n",
    "    i = i % 2\n",
    "            \n",
    "    c.plot(kind=\"bar\", figsize=(15,15), title=col, ax=axes[x,i], color=colors)\n",
    "    axes[x,i].set_xticklabels(df[\"Model\"], rotation=90)\n",
    "plt.show()"
   ]
  },
  {
   "cell_type": "code",
   "execution_count": 51,
   "metadata": {},
   "outputs": [
    {
     "data": {
      "image/png": "[encoded data removed]",
      "text/plain": [
       "<Figure size 864x1008 with 1 Axes>"
      ]
     },
     "metadata": {},
     "output_type": "display_data"
    }
   ],
   "source": [
    "ax = df.plot.scatter(y = \"Train Accuracy\", x = \"Num. Params\", figsize=(12,14), color=[\"r\" for _ in range(len(df))], s=50)\n",
    "for i, j in enumerate(df.index):\n",
    "    ax.annotate(\"Model {}\".format(i), (df[\"Num. Params\"][i], df[\"Train Accuracy\"][i]))"
   ]
  },
  {
   "cell_type": "code",
   "execution_count": null,
   "metadata": {},
   "outputs": [],
   "source": []
  }
 ],
 "metadata": {
  "interpreter": {
   "hash": "fae8b896b010e7d5e6a5cd073aabec8a3c653cb61b068cf7cdb629a6903a157a"
  },
  "kernelspec": {
   "display_name": "Python 3",
   "language": "python",
   "name": "python3"
  },
  "language_info": {
   "codemirror_mode": {
    "name": "ipython",
    "version": 3
   },
   "file_extension": ".py",
   "mimetype": "text/x-python",
   "name": "python",
   "nbconvert_exporter": "python",
   "pygments_lexer": "ipython3",
   "version": "3.8.12"
  }
 },
 "nbformat": 4,
 "nbformat_minor": 2
}
