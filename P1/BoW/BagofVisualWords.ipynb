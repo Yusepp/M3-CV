{
 "cells": [
  {
   "cell_type": "code",
   "execution_count": 1,
   "metadata": {},
   "outputs": [
    {
     "name": "stdout",
     "output_type": "stream",
     "text": [
      "Requirement already satisfied: tqdm in c:\\users\\yusep\\anaconda3\\lib\\site-packages (4.62.3)\n",
      "Requirement already satisfied: colorama in c:\\users\\yusep\\anaconda3\\lib\\site-packages (from tqdm) (0.4.4)\n"
     ]
    }
   ],
   "source": [
    "!pip install tqdm"
   ]
  },
  {
   "cell_type": "code",
   "execution_count": 2,
   "metadata": {},
   "outputs": [],
   "source": [
    "import cv2\n",
    "import numpy as np\n",
    "import pickle\n",
    "import os\n",
    "import warnings\n",
    "import pandas as pd\n",
    "from tqdm import tqdm\n",
    "from sklearn.cluster import MiniBatchKMeans\n",
    "from sklearn.neighbors import KNeighborsClassifier\n",
    "from sklearn.decomposition import PCA\n",
    "from sklearn.discriminant_analysis import LinearDiscriminantAnalysis\n",
    "\n",
    "warnings.filterwarnings('ignore')"
   ]
  },
  {
   "cell_type": "markdown",
   "metadata": {},
   "source": [
    "Let us first read the train and test files"
   ]
  },
  {
   "cell_type": "code",
   "execution_count": 3,
   "metadata": {},
   "outputs": [],
   "source": [
    "train_images_filenames = pickle.load(open('train_images_filenames.dat','rb'))\n",
    "test_images_filenames = pickle.load(open('test_images_filenames.dat','rb'))\n",
    "train_images_filenames = ['..' + n[15:] for n in train_images_filenames]\n",
    "test_images_filenames  = ['..' + n[15:] for n in test_images_filenames]\n",
    "\n",
    "train_labels = pickle.load(open('train_labels.dat','rb'))\n",
    "test_labels = pickle.load(open('test_labels.dat','rb'))"
   ]
  },
  {
   "cell_type": "markdown",
   "metadata": {},
   "source": [
    "We create a SIFT object detector and descriptor. We compute the SIFT descriptors for all the train images and subsequently build a numpy array with all the descriptors stacked together."
   ]
  },
  {
   "cell_type": "code",
   "execution_count": 4,
   "metadata": {},
   "outputs": [],
   "source": [
    "detector = cv2.KAZE_create(threshold=0.0001)\n",
    "\n",
    "def get_SIFT_descriptors(detector, x, y):\n",
    "    descriptors = []\n",
    "    label_per_descriptor = []\n",
    "\n",
    "    for filename, labels in zip(x,y):\n",
    "        ima = cv2.imread(filename)\n",
    "        gray = cv2.cvtColor(ima, cv2.COLOR_BGR2GRAY)\n",
    "        kpt, des = detector.detectAndCompute(gray, None)\n",
    "        descriptors.append(des)\n",
    "        label_per_descriptor.append(labels)\n",
    "\n",
    "    descriptors_np = np.vstack(descriptors)\n",
    "\n",
    "    return descriptors_np, descriptors, label_per_descriptor\n",
    "\n",
    "train_descriptors_np, train_descriptors, train_label_per_descriptor = get_SIFT_descriptors(detector, train_images_filenames, train_labels)\n",
    "test_descriptors_np, test_descriptors, test_label_per_descriptor = get_SIFT_descriptors(detector, test_images_filenames, test_labels)"
   ]
  },
  {
   "cell_type": "markdown",
   "metadata": {},
   "source": [
    "We now compute a k-means clustering on the descriptor space and, for each train image, we project each keypoint descriptor to its closest visual word. We represent each of the images with the frequency of each visual word."
   ]
  },
  {
   "cell_type": "code",
   "execution_count": 5,
   "metadata": {},
   "outputs": [],
   "source": [
    "k = 128\n",
    "codebook = MiniBatchKMeans(n_clusters=k, verbose=False, batch_size=k * 20,compute_labels=False,reassignment_ratio=10**-4,random_state=42)\n",
    "\n",
    "def get_visual_words(descriptors,descriptors_np,codebook,k,test=False):\n",
    "    \n",
    "    if not test:\n",
    "        codebook.fit(descriptors_np)\n",
    "        \n",
    "    visual_words = np.zeros((len(descriptors), k), dtype=np.float32)\n",
    "    \n",
    "    for i in range(len(descriptors)):\n",
    "        words = codebook.predict(descriptors[i])\n",
    "        visual_words[i,:] = np.bincount(words, minlength=k)\n",
    "    \n",
    "    return words, visual_words\n",
    "\n",
    "words_train, visual_words_train = get_visual_words(train_descriptors,train_descriptors_np,codebook,k)\n",
    "words_test, visual_words_test = get_visual_words(test_descriptors,test_descriptors_np,codebook,k,test=True)"
   ]
  },
  {
   "cell_type": "markdown",
   "metadata": {},
   "source": [
    " We build a k-nn classifier, train it with the train descriptors and computing the test descriptors and compute the accuracy of the model"
   ]
  },
  {
   "cell_type": "code",
   "execution_count": 6,
   "metadata": {},
   "outputs": [
    {
     "data": {
      "text/plain": [
       "59.10780669144982"
      ]
     },
     "execution_count": 6,
     "metadata": {},
     "output_type": "execute_result"
    }
   ],
   "source": [
    "def evaluate_knn(visual_words_train, visual_words_test,n_neighbors=5, metric='euclidean'):\n",
    "    knn = KNeighborsClassifier(n_neighbors=n_neighbors,n_jobs=-1,metric=metric)\n",
    "    knn.fit(visual_words_train, train_labels) \n",
    "    accuracy = 100*knn.score(visual_words_test, test_labels)\n",
    "    return accuracy\n",
    "    \n",
    "evaluate_knn(visual_words_train, visual_words_test, n_neighbors=5, metric='euclidean')    "
   ]
  },
  {
   "cell_type": "markdown",
   "metadata": {},
   "source": [
    "Dimensionality reduction, with PCA and LDA"
   ]
  },
  {
   "cell_type": "code",
   "execution_count": 7,
   "metadata": {},
   "outputs": [
    {
     "data": {
      "text/plain": [
       "59.603469640644356"
      ]
     },
     "execution_count": 7,
     "metadata": {},
     "output_type": "execute_result"
    }
   ],
   "source": [
    "def evaluate_pca(visual_words_train, visual_words_test,n_components=64,n_neighbors=5,metric='euclidean'):\n",
    "    pca = PCA(n_components=n_components)\n",
    "    VWpca = pca.fit_transform(visual_words_train)\n",
    "    knnpca = KNeighborsClassifier(n_neighbors=n_neighbors,n_jobs=-1,metric=metric)\n",
    "    knnpca.fit(VWpca, train_labels) \n",
    "    vwtestpca = pca.transform(visual_words_test)\n",
    "    accuracy = 100*knnpca.score(vwtestpca, test_labels)\n",
    "    return accuracy\n",
    "\n",
    "evaluate_pca(visual_words_train, visual_words_test,n_components=64,n_neighbors=5,metric='euclidean')"
   ]
  },
  {
   "cell_type": "code",
   "execution_count": 8,
   "metadata": {},
   "outputs": [
    {
     "data": {
      "text/plain": [
       "65.4275092936803"
      ]
     },
     "execution_count": 8,
     "metadata": {},
     "output_type": "execute_result"
    }
   ],
   "source": [
    "def evaluate_lda(visual_words_train, visual_words_test,n_components=7,n_neighbors=5,metric='euclidean'):\n",
    "    lda = LinearDiscriminantAnalysis(n_components=7)\n",
    "    VWlda = lda.fit_transform(visual_words_train,train_labels)\n",
    "    knnlda = KNeighborsClassifier(n_neighbors=5,n_jobs=-1,metric='euclidean')\n",
    "    knnlda.fit(VWlda, train_labels) \n",
    "    vwtestlda = lda.transform(visual_words_test)\n",
    "    accuracy = 100*knnlda.score(vwtestlda, test_labels)\n",
    "    return accuracy\n",
    "    \n",
    "evaluate_lda(visual_words_train, visual_words_test,n_components=7,n_neighbors=5,metric='euclidean')"
   ]
  },
  {
   "cell_type": "markdown",
   "metadata": {},
   "source": [
    "# SIFT with different amount of local features"
   ]
  },
  {
   "cell_type": "code",
   "execution_count": 9,
   "metadata": {},
   "outputs": [
    {
     "name": "stdout",
     "output_type": "stream",
     "text": [
      "Evaluating SIFT with 100 features\n",
      "--------------------------------------------------\n",
      "Evaluating SIFT with 500 features\n",
      "--------------------------------------------------\n",
      "Evaluating SIFT with 1000 features\n",
      "--------------------------------------------------\n",
      "Evaluating SIFT with 2500 features\n",
      "--------------------------------------------------\n",
      "Evaluating SIFT with 5000 features\n",
      "--------------------------------------------------\n",
      "Evaluating SIFT with 10000 features\n",
      "--------------------------------------------------\n"
     ]
    }
   ],
   "source": [
    "def evaluate_SIFT(nfeatures=1000,k=128):\n",
    "    print(\"Evaluating SIFT with {} features\".format(nfeatures))\n",
    "    print(50*\"-\")\n",
    "    detector = cv2.xfeatures2d.SIFT_create(nfeatures=nfeatures)\n",
    "    train_descriptors_np, train_descriptors, train_label_per_descriptor = get_SIFT_descriptors(detector, train_images_filenames, train_labels)\n",
    "    test_descriptors_np, test_descriptors, test_label_per_descriptor = get_SIFT_descriptors(detector, test_images_filenames, test_labels)\n",
    "\n",
    "    words_train, visual_words_train = get_visual_words(train_descriptors,train_descriptors_np,codebook,k)\n",
    "    words_test, visual_words_test = get_visual_words(test_descriptors,test_descriptors_np,codebook,k,test=True)\n",
    "\n",
    "    knn_acc = evaluate_knn(visual_words_train, visual_words_test, n_neighbors=5, metric='euclidean')\n",
    "    pca_acc = evaluate_pca(visual_words_train, visual_words_test, n_components=64,n_neighbors=5,metric='euclidean')\n",
    "    lda_acc = evaluate_lda(visual_words_train, visual_words_test, n_components=7,n_neighbors=5,metric='euclidean')\n",
    "    return [knn_acc,pca_acc,lda_acc]\n",
    "    \n",
    "\n",
    "\n",
    "opt = [100, 500, 1000, 2500, 5000, 10000]\n",
    "\n",
    "results = {}\n",
    "\n",
    "for n in opt:   \n",
    "    results[str(n)+\" features\"] = evaluate_SIFT(nfeatures=n)"
   ]
  },
  {
   "cell_type": "code",
   "execution_count": 10,
   "metadata": {},
   "outputs": [
    {
     "data": {
      "text/html": [
       "<div>\n",
       "<style scoped>\n",
       "    .dataframe tbody tr th:only-of-type {\n",
       "        vertical-align: middle;\n",
       "    }\n",
       "\n",
       "    .dataframe tbody tr th {\n",
       "        vertical-align: top;\n",
       "    }\n",
       "\n",
       "    .dataframe thead th {\n",
       "        text-align: right;\n",
       "    }\n",
       "</style>\n",
       "<table border=\"1\" class=\"dataframe\">\n",
       "  <thead>\n",
       "    <tr style=\"text-align: right;\">\n",
       "      <th></th>\n",
       "      <th>KNN</th>\n",
       "      <th>KNN-PCA</th>\n",
       "      <th>KNN-LDA</th>\n",
       "    </tr>\n",
       "  </thead>\n",
       "  <tbody>\n",
       "    <tr>\n",
       "      <th>100 features</th>\n",
       "      <td>43.866171</td>\n",
       "      <td>42.007435</td>\n",
       "      <td>48.698885</td>\n",
       "    </tr>\n",
       "    <tr>\n",
       "      <th>500 features</th>\n",
       "      <td>59.603470</td>\n",
       "      <td>59.603470</td>\n",
       "      <td>63.197026</td>\n",
       "    </tr>\n",
       "    <tr>\n",
       "      <th>1000 features</th>\n",
       "      <td>59.107807</td>\n",
       "      <td>61.338290</td>\n",
       "      <td>62.205700</td>\n",
       "    </tr>\n",
       "    <tr>\n",
       "      <th>2500 features</th>\n",
       "      <td>59.727385</td>\n",
       "      <td>61.090458</td>\n",
       "      <td>64.188352</td>\n",
       "    </tr>\n",
       "    <tr>\n",
       "      <th>5000 features</th>\n",
       "      <td>59.727385</td>\n",
       "      <td>59.851301</td>\n",
       "      <td>64.188352</td>\n",
       "    </tr>\n",
       "    <tr>\n",
       "      <th>10000 features</th>\n",
       "      <td>59.727385</td>\n",
       "      <td>59.727385</td>\n",
       "      <td>64.188352</td>\n",
       "    </tr>\n",
       "  </tbody>\n",
       "</table>\n",
       "</div>"
      ],
      "text/plain": [
       "                      KNN    KNN-PCA    KNN-LDA\n",
       "100 features    43.866171  42.007435  48.698885\n",
       "500 features    59.603470  59.603470  63.197026\n",
       "1000 features   59.107807  61.338290  62.205700\n",
       "2500 features   59.727385  61.090458  64.188352\n",
       "5000 features   59.727385  59.851301  64.188352\n",
       "10000 features  59.727385  59.727385  64.188352"
      ]
     },
     "execution_count": 10,
     "metadata": {},
     "output_type": "execute_result"
    }
   ],
   "source": [
    "import matplotlib.pyplot as plt\n",
    "\n",
    "df = pd.DataFrame.from_dict(results, orient='index')\n",
    "df.columns = [\"KNN\", \"KNN-PCA\", \"KNN-LDA\"]\n",
    "df"
   ]
  },
  {
   "cell_type": "code",
   "execution_count": 11,
   "metadata": {},
   "outputs": [
    {
     "data": {
      "text/plain": [
       "<AxesSubplot:>"
      ]
     },
     "execution_count": 11,
     "metadata": {},
     "output_type": "execute_result"
    },
    {
     "data": {
      "image/png": "[encoded data removed]",
      "text/plain": [
       "<Figure size 720x720 with 1 Axes>"
      ]
     },
     "metadata": {
      "needs_background": "light"
     },
     "output_type": "display_data"
    }
   ],
   "source": [
    "df.plot(kind=\"bar\",figsize=(10,10), rot=0)"
   ]
  },
  {
   "cell_type": "markdown",
   "metadata": {},
   "source": [
    "# Try Dense SIFT"
   ]
  },
  {
   "cell_type": "code",
   "execution_count": 12,
   "metadata": {},
   "outputs": [],
   "source": [
    "def get_dense_SIFT_features(images, lbls, nfeatures=5000):\n",
    "    descriptors = []\n",
    "    label_per_descriptor = []\n",
    "    descriptors_np = None\n",
    "    sift = cv2.xfeatures2d.SIFT_create(nfeatures=nfeatures)\n",
    "    \n",
    "    for filename, labels in zip(images,lbls):\n",
    "        ima = cv2.imread(filename)\n",
    "        gray = cv2.cvtColor(ima, cv2.COLOR_BGR2GRAY)\n",
    "        step_size = 5\n",
    "        kp = [cv2.KeyPoint(x, y, step_size) for y in range(0, gray.shape[0], step_size) \n",
    "                                        for x in range(0, gray.shape[1], step_size)]\n",
    "        \n",
    "        kp, des = sift.compute(gray, kp)\n",
    "        descriptors.append(des)\n",
    "        label_per_descriptor.append(labels)\n",
    "    \n",
    "    descriptors_np = np.vstack(descriptors)\n",
    "\n",
    "    \n",
    "    return descriptors_np, descriptors, label_per_descriptor"
   ]
  },
  {
   "cell_type": "code",
   "execution_count": 13,
   "metadata": {},
   "outputs": [],
   "source": [
    "def evaluate_dense_SIFT(nfeatures=5000, k=128):\n",
    "    print(\"Evaluating Dense SIFT with {} features\".format(nfeatures))\n",
    "    print(50*\"-\")\n",
    "    train_descriptors_np, train_descriptors, train_label_per_descriptor = get_dense_SIFT_features(train_images_filenames, train_labels, nfeatures)\n",
    "    test_descriptors_np, test_descriptors, test_label_per_descriptor = get_dense_SIFT_features(test_images_filenames, test_labels, nfeatures)\n",
    "\n",
    "    words_train, visual_words_train = get_visual_words(train_descriptors,train_descriptors_np,codebook,k)\n",
    "    words_test, visual_words_test = get_visual_words(test_descriptors,test_descriptors_np,codebook,k,test=True)\n",
    "\n",
    "    knn_acc = evaluate_knn(visual_words_train, visual_words_test, n_neighbors=5, metric='euclidean')\n",
    "    pca_acc = evaluate_pca(visual_words_train, visual_words_test, n_components=64,n_neighbors=5,metric='euclidean')\n",
    "    lda_acc = evaluate_lda(visual_words_train, visual_words_test, n_components=7,n_neighbors=5,metric='euclidean')\n",
    "    return [knn_acc,pca_acc,lda_acc]"
   ]
  },
  {
   "cell_type": "code",
   "execution_count": 14,
   "metadata": {},
   "outputs": [
    {
     "name": "stdout",
     "output_type": "stream",
     "text": [
      "Evaluating Dense SIFT with 5000 features\n",
      "--------------------------------------------------\n",
      "Evaluating SIFT with 5000 features\n",
      "--------------------------------------------------\n"
     ]
    },
    {
     "data": {
      "text/html": [
       "<div>\n",
       "<style scoped>\n",
       "    .dataframe tbody tr th:only-of-type {\n",
       "        vertical-align: middle;\n",
       "    }\n",
       "\n",
       "    .dataframe tbody tr th {\n",
       "        vertical-align: top;\n",
       "    }\n",
       "\n",
       "    .dataframe thead th {\n",
       "        text-align: right;\n",
       "    }\n",
       "</style>\n",
       "<table border=\"1\" class=\"dataframe\">\n",
       "  <thead>\n",
       "    <tr style=\"text-align: right;\">\n",
       "      <th></th>\n",
       "      <th>KNN</th>\n",
       "      <th>KNN-PCA</th>\n",
       "      <th>KNN-LDA</th>\n",
       "    </tr>\n",
       "  </thead>\n",
       "  <tbody>\n",
       "    <tr>\n",
       "      <th>Dense SIFT</th>\n",
       "      <td>70.631970</td>\n",
       "      <td>70.260223</td>\n",
       "      <td>80.545229</td>\n",
       "    </tr>\n",
       "    <tr>\n",
       "      <th>SIFT</th>\n",
       "      <td>59.727385</td>\n",
       "      <td>58.736059</td>\n",
       "      <td>64.188352</td>\n",
       "    </tr>\n",
       "  </tbody>\n",
       "</table>\n",
       "</div>"
      ],
      "text/plain": [
       "                  KNN    KNN-PCA    KNN-LDA\n",
       "Dense SIFT  70.631970  70.260223  80.545229\n",
       "SIFT        59.727385  58.736059  64.188352"
      ]
     },
     "execution_count": 14,
     "metadata": {},
     "output_type": "execute_result"
    }
   ],
   "source": [
    "results_keys = [\"Dense SIFT\", \"SIFT\"]\n",
    "results_list = [evaluate_dense_SIFT(nfeatures=5000), evaluate_SIFT(nfeatures=5000)]\n",
    "results = dict(zip(results_keys,results_list))\n",
    "df = pd.DataFrame.from_dict(results, orient='index')\n",
    "df.columns = [\"KNN\", \"KNN-PCA\", \"KNN-LDA\"]\n",
    "df"
   ]
  },
  {
   "cell_type": "code",
   "execution_count": 15,
   "metadata": {},
   "outputs": [
    {
     "data": {
      "text/plain": [
       "<AxesSubplot:>"
      ]
     },
     "execution_count": 15,
     "metadata": {},
     "output_type": "execute_result"
    },
    {
     "data": {
      "image/png": "[encoded data removed]",
      "text/plain": [
       "<Figure size 720x720 with 1 Axes>"
      ]
     },
     "metadata": {
      "needs_background": "light"
     },
     "output_type": "display_data"
    }
   ],
   "source": [
    "df.plot(kind=\"bar\",figsize=(10,10), rot=0)"
   ]
  },
  {
   "cell_type": "markdown",
   "metadata": {},
   "source": [
    "# Different codebook k sizes"
   ]
  },
  {
   "cell_type": "code",
   "execution_count": 16,
   "metadata": {},
   "outputs": [
    {
     "name": "stdout",
     "output_type": "stream",
     "text": [
      "Evaluating SIFT with 5000 features and k=32\n",
      "--------------------------------------------------\n",
      "Evaluating SIFT with 5000 features and k=64\n",
      "--------------------------------------------------\n",
      "Evaluating SIFT with 5000 features and k=128\n",
      "--------------------------------------------------\n",
      "Evaluating SIFT with 5000 features and k=256\n",
      "--------------------------------------------------\n",
      "Evaluating SIFT with 5000 features and k=512\n",
      "--------------------------------------------------\n",
      "Evaluating SIFT with 5000 features and k=1024\n",
      "--------------------------------------------------\n"
     ]
    }
   ],
   "source": [
    "def evaluate_SIFT_k_codebook(nfeatures=5000,k=128):\n",
    "    print(\"Evaluating SIFT with {} features and k={}\".format(nfeatures,k))\n",
    "    print(50*\"-\")\n",
    "    codebook = MiniBatchKMeans(n_clusters=k, verbose=False, batch_size=k * 20,compute_labels=False,reassignment_ratio=10**-4,random_state=42)\n",
    "    detector = cv2.xfeatures2d.SIFT_create(nfeatures=nfeatures)\n",
    "    train_descriptors_np, train_descriptors, train_label_per_descriptor = get_SIFT_descriptors(detector, train_images_filenames, train_labels)\n",
    "    test_descriptors_np, test_descriptors, test_label_per_descriptor = get_SIFT_descriptors(detector, test_images_filenames, test_labels)\n",
    "\n",
    "    words_train, visual_words_train = get_visual_words(train_descriptors,train_descriptors_np,codebook,k)\n",
    "    words_test, visual_words_test = get_visual_words(test_descriptors,test_descriptors_np,codebook,k,test=True)\n",
    "\n",
    "    knn_acc = evaluate_knn(visual_words_train, visual_words_test, n_neighbors=5, metric='euclidean')\n",
    "    pca_acc = evaluate_pca(visual_words_train, visual_words_test, n_components=int(k/2),n_neighbors=5,metric='euclidean')\n",
    "    lda_acc = evaluate_lda(visual_words_train, visual_words_test, n_components=7,n_neighbors=5,metric='euclidean')\n",
    "    return [knn_acc,pca_acc,lda_acc]\n",
    "    \n",
    "\n",
    "\n",
    "opt = [32, 64, 128, 256, 512, 1024]\n",
    "\n",
    "results = {}\n",
    "\n",
    "for n in opt:   \n",
    "    results[\"k = \"+str(n)] = evaluate_SIFT_k_codebook(nfeatures=5000, k=n)"
   ]
  },
  {
   "cell_type": "code",
   "execution_count": 17,
   "metadata": {},
   "outputs": [
    {
     "data": {
      "text/html": [
       "<div>\n",
       "<style scoped>\n",
       "    .dataframe tbody tr th:only-of-type {\n",
       "        vertical-align: middle;\n",
       "    }\n",
       "\n",
       "    .dataframe tbody tr th {\n",
       "        vertical-align: top;\n",
       "    }\n",
       "\n",
       "    .dataframe thead th {\n",
       "        text-align: right;\n",
       "    }\n",
       "</style>\n",
       "<table border=\"1\" class=\"dataframe\">\n",
       "  <thead>\n",
       "    <tr style=\"text-align: right;\">\n",
       "      <th></th>\n",
       "      <th>KNN</th>\n",
       "      <th>KNN-PCA</th>\n",
       "      <th>KNN-LDA</th>\n",
       "    </tr>\n",
       "  </thead>\n",
       "  <tbody>\n",
       "    <tr>\n",
       "      <th>k = 32</th>\n",
       "      <td>53.283767</td>\n",
       "      <td>54.770756</td>\n",
       "      <td>56.753408</td>\n",
       "    </tr>\n",
       "    <tr>\n",
       "      <th>k = 64</th>\n",
       "      <td>54.151177</td>\n",
       "      <td>55.514250</td>\n",
       "      <td>61.957869</td>\n",
       "    </tr>\n",
       "    <tr>\n",
       "      <th>k = 128</th>\n",
       "      <td>59.727385</td>\n",
       "      <td>59.603470</td>\n",
       "      <td>64.188352</td>\n",
       "    </tr>\n",
       "    <tr>\n",
       "      <th>k = 256</th>\n",
       "      <td>57.372986</td>\n",
       "      <td>59.727385</td>\n",
       "      <td>63.692689</td>\n",
       "    </tr>\n",
       "    <tr>\n",
       "      <th>k = 512</th>\n",
       "      <td>51.301115</td>\n",
       "      <td>58.240397</td>\n",
       "      <td>59.851301</td>\n",
       "    </tr>\n",
       "    <tr>\n",
       "      <th>k = 1024</th>\n",
       "      <td>37.670384</td>\n",
       "      <td>47.335812</td>\n",
       "      <td>51.177200</td>\n",
       "    </tr>\n",
       "  </tbody>\n",
       "</table>\n",
       "</div>"
      ],
      "text/plain": [
       "                KNN    KNN-PCA    KNN-LDA\n",
       "k = 32    53.283767  54.770756  56.753408\n",
       "k = 64    54.151177  55.514250  61.957869\n",
       "k = 128   59.727385  59.603470  64.188352\n",
       "k = 256   57.372986  59.727385  63.692689\n",
       "k = 512   51.301115  58.240397  59.851301\n",
       "k = 1024  37.670384  47.335812  51.177200"
      ]
     },
     "execution_count": 17,
     "metadata": {},
     "output_type": "execute_result"
    }
   ],
   "source": [
    "df = pd.DataFrame.from_dict(results, orient='index')\n",
    "df.columns = [\"KNN\", \"KNN-PCA\", \"KNN-LDA\"]\n",
    "df"
   ]
  },
  {
   "cell_type": "code",
   "execution_count": 18,
   "metadata": {},
   "outputs": [
    {
     "data": {
      "text/plain": [
       "<AxesSubplot:>"
      ]
     },
     "execution_count": 18,
     "metadata": {},
     "output_type": "execute_result"
    },
    {
     "data": {
      "image/png": "[encoded data removed]",
      "text/plain": [
       "<Figure size 720x720 with 1 Axes>"
      ]
     },
     "metadata": {
      "needs_background": "light"
     },
     "output_type": "display_data"
    }
   ],
   "source": [
    "df.plot(kind=\"bar\",figsize=(10,10), rot=0)"
   ]
  },
  {
   "cell_type": "markdown",
   "metadata": {},
   "source": [
    "# Different N_Neighbors for KNN"
   ]
  },
  {
   "cell_type": "code",
   "execution_count": 19,
   "metadata": {},
   "outputs": [
    {
     "name": "stdout",
     "output_type": "stream",
     "text": [
      "Evaluating SIFT with 5000 features and k=128 and n_neighbors=2\n",
      "--------------------------------------------------\n",
      "Evaluating SIFT with 5000 features and k=128 and n_neighbors=3\n",
      "--------------------------------------------------\n",
      "Evaluating SIFT with 5000 features and k=128 and n_neighbors=4\n",
      "--------------------------------------------------\n",
      "Evaluating SIFT with 5000 features and k=128 and n_neighbors=5\n",
      "--------------------------------------------------\n",
      "Evaluating SIFT with 5000 features and k=128 and n_neighbors=6\n",
      "--------------------------------------------------\n",
      "Evaluating SIFT with 5000 features and k=128 and n_neighbors=7\n",
      "--------------------------------------------------\n",
      "Evaluating SIFT with 5000 features and k=128 and n_neighbors=8\n",
      "--------------------------------------------------\n",
      "Evaluating SIFT with 5000 features and k=128 and n_neighbors=9\n",
      "--------------------------------------------------\n",
      "Evaluating SIFT with 5000 features and k=128 and n_neighbors=10\n",
      "--------------------------------------------------\n"
     ]
    }
   ],
   "source": [
    "def evaluate_SIFT_n_neighbors(nfeatures=5000,k=128,n_neighbors=5):\n",
    "    print(\"Evaluating SIFT with {} features and k={} and n_neighbors={}\".format(nfeatures,k, n_neighbors))\n",
    "    print(50*\"-\")\n",
    "    codebook = MiniBatchKMeans(n_clusters=k, verbose=False, batch_size=k * 20,compute_labels=False,reassignment_ratio=10**-4,random_state=42)\n",
    "    detector = cv2.xfeatures2d.SIFT_create(nfeatures=nfeatures)\n",
    "    train_descriptors_np, train_descriptors, train_label_per_descriptor = get_SIFT_descriptors(detector, train_images_filenames, train_labels)\n",
    "    test_descriptors_np, test_descriptors, test_label_per_descriptor = get_SIFT_descriptors(detector, test_images_filenames, test_labels)\n",
    "\n",
    "    words_train, visual_words_train = get_visual_words(train_descriptors,train_descriptors_np,codebook,k)\n",
    "    words_test, visual_words_test = get_visual_words(test_descriptors,test_descriptors_np,codebook,k,test=True)\n",
    "\n",
    "    knn_acc = evaluate_knn(visual_words_train, visual_words_test, n_neighbors=n_neighbors, metric='euclidean')\n",
    "    pca_acc = evaluate_pca(visual_words_train, visual_words_test, n_components=int(k/2),n_neighbors=n_neighbors,metric='euclidean')\n",
    "    lda_acc = evaluate_lda(visual_words_train, visual_words_test, n_components=7,n_neighbors=n_neighbors,metric='euclidean')\n",
    "    return [knn_acc,pca_acc,lda_acc]\n",
    "    \n",
    "\n",
    "\n",
    "opt = [2, 3, 4, 5, 6, 7, 8, 9, 10]\n",
    "\n",
    "results = {}\n",
    "\n",
    "for n in opt:   \n",
    "    results[\"n = \"+str(n)] = evaluate_SIFT_n_neighbors(nfeatures=5000, k=128, n_neighbors=n)"
   ]
  },
  {
   "cell_type": "code",
   "execution_count": 20,
   "metadata": {},
   "outputs": [
    {
     "data": {
      "text/html": [
       "<div>\n",
       "<style scoped>\n",
       "    .dataframe tbody tr th:only-of-type {\n",
       "        vertical-align: middle;\n",
       "    }\n",
       "\n",
       "    .dataframe tbody tr th {\n",
       "        vertical-align: top;\n",
       "    }\n",
       "\n",
       "    .dataframe thead th {\n",
       "        text-align: right;\n",
       "    }\n",
       "</style>\n",
       "<table border=\"1\" class=\"dataframe\">\n",
       "  <thead>\n",
       "    <tr style=\"text-align: right;\">\n",
       "      <th></th>\n",
       "      <th>KNN</th>\n",
       "      <th>KNN-PCA</th>\n",
       "      <th>KNN-LDA</th>\n",
       "    </tr>\n",
       "  </thead>\n",
       "  <tbody>\n",
       "    <tr>\n",
       "      <th>n = 2</th>\n",
       "      <td>54.027261</td>\n",
       "      <td>53.655514</td>\n",
       "      <td>64.188352</td>\n",
       "    </tr>\n",
       "    <tr>\n",
       "      <th>n = 3</th>\n",
       "      <td>57.744734</td>\n",
       "      <td>60.099133</td>\n",
       "      <td>64.188352</td>\n",
       "    </tr>\n",
       "    <tr>\n",
       "      <th>n = 4</th>\n",
       "      <td>58.859975</td>\n",
       "      <td>59.355638</td>\n",
       "      <td>64.188352</td>\n",
       "    </tr>\n",
       "    <tr>\n",
       "      <th>n = 5</th>\n",
       "      <td>59.727385</td>\n",
       "      <td>60.346964</td>\n",
       "      <td>64.188352</td>\n",
       "    </tr>\n",
       "    <tr>\n",
       "      <th>n = 6</th>\n",
       "      <td>61.833953</td>\n",
       "      <td>61.214374</td>\n",
       "      <td>64.188352</td>\n",
       "    </tr>\n",
       "    <tr>\n",
       "      <th>n = 7</th>\n",
       "      <td>59.975217</td>\n",
       "      <td>60.223048</td>\n",
       "      <td>64.188352</td>\n",
       "    </tr>\n",
       "    <tr>\n",
       "      <th>n = 8</th>\n",
       "      <td>61.710037</td>\n",
       "      <td>60.470880</td>\n",
       "      <td>64.188352</td>\n",
       "    </tr>\n",
       "    <tr>\n",
       "      <th>n = 9</th>\n",
       "      <td>60.470880</td>\n",
       "      <td>60.346964</td>\n",
       "      <td>64.188352</td>\n",
       "    </tr>\n",
       "    <tr>\n",
       "      <th>n = 10</th>\n",
       "      <td>60.346964</td>\n",
       "      <td>60.966543</td>\n",
       "      <td>64.188352</td>\n",
       "    </tr>\n",
       "  </tbody>\n",
       "</table>\n",
       "</div>"
      ],
      "text/plain": [
       "              KNN    KNN-PCA    KNN-LDA\n",
       "n = 2   54.027261  53.655514  64.188352\n",
       "n = 3   57.744734  60.099133  64.188352\n",
       "n = 4   58.859975  59.355638  64.188352\n",
       "n = 5   59.727385  60.346964  64.188352\n",
       "n = 6   61.833953  61.214374  64.188352\n",
       "n = 7   59.975217  60.223048  64.188352\n",
       "n = 8   61.710037  60.470880  64.188352\n",
       "n = 9   60.470880  60.346964  64.188352\n",
       "n = 10  60.346964  60.966543  64.188352"
      ]
     },
     "execution_count": 20,
     "metadata": {},
     "output_type": "execute_result"
    }
   ],
   "source": [
    "df = pd.DataFrame.from_dict(results, orient='index')\n",
    "df.columns = [\"KNN\", \"KNN-PCA\", \"KNN-LDA\"]\n",
    "df"
   ]
  },
  {
   "cell_type": "code",
   "execution_count": 21,
   "metadata": {},
   "outputs": [
    {
     "data": {
      "text/plain": [
       "<AxesSubplot:>"
      ]
     },
     "execution_count": 21,
     "metadata": {},
     "output_type": "execute_result"
    },
    {
     "data": {
      "image/png": "[encoded data removed]",
      "text/plain": [
       "<Figure size 720x720 with 1 Axes>"
      ]
     },
     "metadata": {
      "needs_background": "light"
     },
     "output_type": "display_data"
    }
   ],
   "source": [
    "df.plot(kind=\"bar\",figsize=(10,10), rot=0)"
   ]
  },
  {
   "cell_type": "markdown",
   "metadata": {},
   "source": [
    "# Different Metrics for KNN"
   ]
  },
  {
   "cell_type": "code",
   "execution_count": 22,
   "metadata": {},
   "outputs": [
    {
     "name": "stdout",
     "output_type": "stream",
     "text": [
      "Evaluating SIFT with 5000 features and k=128 and n_neighbors=5 and metric=euclidean\n",
      "--------------------------------------------------\n",
      "Evaluating SIFT with 5000 features and k=128 and n_neighbors=5 and metric=manhattan\n",
      "--------------------------------------------------\n",
      "Evaluating SIFT with 5000 features and k=128 and n_neighbors=5 and metric=chebyshev\n",
      "--------------------------------------------------\n",
      "Evaluating SIFT with 5000 features and k=128 and n_neighbors=5 and metric=minkowski\n",
      "--------------------------------------------------\n",
      "Evaluating SIFT with 5000 features and k=128 and n_neighbors=5 and metric=seuclidean\n",
      "--------------------------------------------------\n",
      "Evaluating SIFT with 5000 features and k=128 and n_neighbors=5 and metric=mahalanobis\n",
      "--------------------------------------------------\n"
     ]
    }
   ],
   "source": [
    "def evaluate_SIFT_knn_metric(nfeatures=5000,k=128,n_neighbors=5, metric=\"euclidean\"):\n",
    "    print(\"Evaluating SIFT with {} features and k={} and n_neighbors={} and metric={}\".format(nfeatures,k, n_neighbors, metric))\n",
    "    print(50*\"-\")\n",
    "    codebook = MiniBatchKMeans(n_clusters=k, verbose=False, batch_size=k * 20,compute_labels=False,reassignment_ratio=10**-4,random_state=42)\n",
    "    detector = cv2.xfeatures2d.SIFT_create(nfeatures=nfeatures)\n",
    "    train_descriptors_np, train_descriptors, train_label_per_descriptor = get_SIFT_descriptors(detector, train_images_filenames, train_labels)\n",
    "    test_descriptors_np, test_descriptors, test_label_per_descriptor = get_SIFT_descriptors(detector, test_images_filenames, test_labels)\n",
    "\n",
    "    words_train, visual_words_train = get_visual_words(train_descriptors,train_descriptors_np,codebook,k)\n",
    "    words_test, visual_words_test = get_visual_words(test_descriptors,test_descriptors_np,codebook,k,test=True)\n",
    "\n",
    "    knn_acc = evaluate_knn(visual_words_train, visual_words_test, n_neighbors=n_neighbors, metric=metric)\n",
    "    pca_acc = evaluate_pca(visual_words_train, visual_words_test, n_components=int(k/2),n_neighbors=n_neighbors,metric=metric)\n",
    "    lda_acc = evaluate_lda(visual_words_train, visual_words_test, n_components=7,n_neighbors=n_neighbors,metric=metric)\n",
    "    return [knn_acc,pca_acc,lda_acc]\n",
    "    \n",
    "\n",
    "\n",
    "opt = [\"euclidean\",\"manhattan\",\"chebyshev\",\"minkowski\",\"seuclidean\",\"mahalanobis\"]\n",
    "\n",
    "results = {}\n",
    "\n",
    "for n in opt:   \n",
    "    results[str(n)] = evaluate_SIFT_knn_metric(nfeatures=5000, k=128, n_neighbors=5, metric=n)"
   ]
  },
  {
   "cell_type": "code",
   "execution_count": 23,
   "metadata": {},
   "outputs": [
    {
     "data": {
      "text/html": [
       "<div>\n",
       "<style scoped>\n",
       "    .dataframe tbody tr th:only-of-type {\n",
       "        vertical-align: middle;\n",
       "    }\n",
       "\n",
       "    .dataframe tbody tr th {\n",
       "        vertical-align: top;\n",
       "    }\n",
       "\n",
       "    .dataframe thead th {\n",
       "        text-align: right;\n",
       "    }\n",
       "</style>\n",
       "<table border=\"1\" class=\"dataframe\">\n",
       "  <thead>\n",
       "    <tr style=\"text-align: right;\">\n",
       "      <th></th>\n",
       "      <th>KNN</th>\n",
       "      <th>KNN-PCA</th>\n",
       "      <th>KNN-LDA</th>\n",
       "    </tr>\n",
       "  </thead>\n",
       "  <tbody>\n",
       "    <tr>\n",
       "      <th>euclidean</th>\n",
       "      <td>59.727385</td>\n",
       "      <td>58.859975</td>\n",
       "      <td>64.188352</td>\n",
       "    </tr>\n",
       "    <tr>\n",
       "      <th>manhattan</th>\n",
       "      <td>57.125155</td>\n",
       "      <td>58.736059</td>\n",
       "      <td>64.188352</td>\n",
       "    </tr>\n",
       "    <tr>\n",
       "      <th>chebyshev</th>\n",
       "      <td>47.831475</td>\n",
       "      <td>60.223048</td>\n",
       "      <td>64.188352</td>\n",
       "    </tr>\n",
       "    <tr>\n",
       "      <th>minkowski</th>\n",
       "      <td>59.727385</td>\n",
       "      <td>59.727385</td>\n",
       "      <td>64.188352</td>\n",
       "    </tr>\n",
       "    <tr>\n",
       "      <th>seuclidean</th>\n",
       "      <td>58.488228</td>\n",
       "      <td>30.731103</td>\n",
       "      <td>64.188352</td>\n",
       "    </tr>\n",
       "    <tr>\n",
       "      <th>mahalanobis</th>\n",
       "      <td>19.578686</td>\n",
       "      <td>30.978934</td>\n",
       "      <td>64.188352</td>\n",
       "    </tr>\n",
       "  </tbody>\n",
       "</table>\n",
       "</div>"
      ],
      "text/plain": [
       "                   KNN    KNN-PCA    KNN-LDA\n",
       "euclidean    59.727385  58.859975  64.188352\n",
       "manhattan    57.125155  58.736059  64.188352\n",
       "chebyshev    47.831475  60.223048  64.188352\n",
       "minkowski    59.727385  59.727385  64.188352\n",
       "seuclidean   58.488228  30.731103  64.188352\n",
       "mahalanobis  19.578686  30.978934  64.188352"
      ]
     },
     "execution_count": 23,
     "metadata": {},
     "output_type": "execute_result"
    }
   ],
   "source": [
    "df = pd.DataFrame.from_dict(results, orient='index')\n",
    "df.columns = [\"KNN\", \"KNN-PCA\", \"KNN-LDA\"]\n",
    "df"
   ]
  },
  {
   "cell_type": "code",
   "execution_count": 24,
   "metadata": {},
   "outputs": [
    {
     "data": {
      "text/plain": [
       "<AxesSubplot:>"
      ]
     },
     "execution_count": 24,
     "metadata": {},
     "output_type": "execute_result"
    },
    {
     "data": {
      "image/png": "[encoded data removed]",
      "text/plain": [
       "<Figure size 720x720 with 1 Axes>"
      ]
     },
     "metadata": {
      "needs_background": "light"
     },
     "output_type": "display_data"
    }
   ],
   "source": [
    "df.plot(kind=\"bar\",figsize=(10,10), rot=0)"
   ]
  },
  {
   "cell_type": "markdown",
   "metadata": {},
   "source": [
    "# Reducing Dimensionality"
   ]
  },
  {
   "cell_type": "code",
   "execution_count": 25,
   "metadata": {},
   "outputs": [
    {
     "name": "stdout",
     "output_type": "stream",
     "text": [
      "Evaluating SIFT with 5000 features and k=128 and n_neighbors=5 and metric=euclidean and pca=8 and lda=3\n",
      "--------------------------------------------------\n",
      "Evaluating SIFT with 5000 features and k=128 and n_neighbors=5 and metric=euclidean and pca=16 and lda=5\n",
      "--------------------------------------------------\n",
      "Evaluating SIFT with 5000 features and k=128 and n_neighbors=5 and metric=euclidean and pca=32 and lda=7\n",
      "--------------------------------------------------\n",
      "Evaluating SIFT with 5000 features and k=128 and n_neighbors=5 and metric=euclidean and pca=64 and lda=9\n",
      "--------------------------------------------------\n",
      "Evaluating SIFT with 5000 features and k=128 and n_neighbors=5 and metric=euclidean and pca=96 and lda=11\n",
      "--------------------------------------------------\n",
      "Evaluating SIFT with 5000 features and k=128 and n_neighbors=5 and metric=euclidean and pca=128 and lda=13\n",
      "--------------------------------------------------\n"
     ]
    }
   ],
   "source": [
    "def evaluate_SIFT_dimensionality(nfeatures=5000,k=128,n_neighbors=5, metric=\"euclidean\", pca=64, lda=7):\n",
    "    print(\"Evaluating SIFT with {} features and k={} and n_neighbors={} and metric={} and pca={} and lda={}\".format(nfeatures,k, n_neighbors, metric, pca, lda))\n",
    "    print(50*\"-\")\n",
    "    codebook = MiniBatchKMeans(n_clusters=k, verbose=False, batch_size=k * 20,compute_labels=False,reassignment_ratio=10**-4,random_state=42)\n",
    "    detector = cv2.xfeatures2d.SIFT_create(nfeatures=nfeatures)\n",
    "    train_descriptors_np, train_descriptors, train_label_per_descriptor = get_SIFT_descriptors(detector, train_images_filenames, train_labels)\n",
    "    test_descriptors_np, test_descriptors, test_label_per_descriptor = get_SIFT_descriptors(detector, test_images_filenames, test_labels)\n",
    "\n",
    "    words_train, visual_words_train = get_visual_words(train_descriptors,train_descriptors_np,codebook,k)\n",
    "    words_test, visual_words_test = get_visual_words(test_descriptors,test_descriptors_np,codebook,k,test=True)\n",
    "\n",
    "    pca_acc = evaluate_pca(visual_words_train, visual_words_test, n_components=int(pca),n_neighbors=n_neighbors,metric=metric)\n",
    "    lda_acc = evaluate_lda(visual_words_train, visual_words_test, n_components=int(lda),n_neighbors=n_neighbors,metric=metric)\n",
    "    return [pca_acc,lda_acc]\n",
    "    \n",
    "\n",
    "\n",
    "opt = [(8,3),(16, 5),(32, 7),(64, 9),(96, 11), (128, 13)]\n",
    "\n",
    "results = {}\n",
    "\n",
    "for n1,n2 in opt:   \n",
    "    results[\"pca=\"+str(n1)+\" lda=\"+str(n2)] = evaluate_SIFT_dimensionality(nfeatures=5000,k=128, n_neighbors=5, metric=\"euclidean\", pca=n1, lda=n2)"
   ]
  },
  {
   "cell_type": "code",
   "execution_count": 26,
   "metadata": {},
   "outputs": [
    {
     "data": {
      "text/html": [
       "<div>\n",
       "<style scoped>\n",
       "    .dataframe tbody tr th:only-of-type {\n",
       "        vertical-align: middle;\n",
       "    }\n",
       "\n",
       "    .dataframe tbody tr th {\n",
       "        vertical-align: top;\n",
       "    }\n",
       "\n",
       "    .dataframe thead th {\n",
       "        text-align: right;\n",
       "    }\n",
       "</style>\n",
       "<table border=\"1\" class=\"dataframe\">\n",
       "  <thead>\n",
       "    <tr style=\"text-align: right;\">\n",
       "      <th></th>\n",
       "      <th>KNN-PCA</th>\n",
       "      <th>KNN-LDA</th>\n",
       "    </tr>\n",
       "  </thead>\n",
       "  <tbody>\n",
       "    <tr>\n",
       "      <th>pca=8 lda=3</th>\n",
       "      <td>58.983891</td>\n",
       "      <td>64.188352</td>\n",
       "    </tr>\n",
       "    <tr>\n",
       "      <th>pca=16 lda=5</th>\n",
       "      <td>62.949195</td>\n",
       "      <td>64.188352</td>\n",
       "    </tr>\n",
       "    <tr>\n",
       "      <th>pca=32 lda=7</th>\n",
       "      <td>60.966543</td>\n",
       "      <td>64.188352</td>\n",
       "    </tr>\n",
       "    <tr>\n",
       "      <th>pca=64 lda=9</th>\n",
       "      <td>59.603470</td>\n",
       "      <td>64.188352</td>\n",
       "    </tr>\n",
       "    <tr>\n",
       "      <th>pca=96 lda=11</th>\n",
       "      <td>59.727385</td>\n",
       "      <td>64.188352</td>\n",
       "    </tr>\n",
       "    <tr>\n",
       "      <th>pca=128 lda=13</th>\n",
       "      <td>59.727385</td>\n",
       "      <td>64.188352</td>\n",
       "    </tr>\n",
       "  </tbody>\n",
       "</table>\n",
       "</div>"
      ],
      "text/plain": [
       "                  KNN-PCA    KNN-LDA\n",
       "pca=8 lda=3     58.983891  64.188352\n",
       "pca=16 lda=5    62.949195  64.188352\n",
       "pca=32 lda=7    60.966543  64.188352\n",
       "pca=64 lda=9    59.603470  64.188352\n",
       "pca=96 lda=11   59.727385  64.188352\n",
       "pca=128 lda=13  59.727385  64.188352"
      ]
     },
     "execution_count": 26,
     "metadata": {},
     "output_type": "execute_result"
    }
   ],
   "source": [
    "df = pd.DataFrame.from_dict(results, orient='index')\n",
    "df.columns = [\"KNN-PCA\", \"KNN-LDA\"]\n",
    "df"
   ]
  },
  {
   "cell_type": "code",
   "execution_count": 27,
   "metadata": {},
   "outputs": [
    {
     "data": {
      "text/plain": [
       "<AxesSubplot:>"
      ]
     },
     "execution_count": 27,
     "metadata": {},
     "output_type": "execute_result"
    },
    {
     "data": {
      "image/png": "[encoded data removed]",
      "text/plain": [
       "<Figure size 720x720 with 1 Axes>"
      ]
     },
     "metadata": {
      "needs_background": "light"
     },
     "output_type": "display_data"
    }
   ],
   "source": [
    "df.plot(kind=\"bar\",figsize=(10,10), rot=0)"
   ]
  },
  {
   "cell_type": "markdown",
   "metadata": {},
   "source": [
    "# Tasks\n",
    "\n",
    "* Test Different Amount of Local Features. Conclusions\n",
    "* Use Dense SIFT instead. Conclusions\n",
    "* Test Different amounts of codebook sizes k. Conclusions\n",
    "* Test different values of k for the k-nnclassifier. Conclusions\n",
    "* Test different distances for the k-nnclassifier. Conclusions\n",
    "* Play with reducing dimensionality. Conclusions\n",
    "* Cross-validate everything"
   ]
  },
  {
   "cell_type": "markdown",
   "metadata": {},
   "source": []
  }
 ],
 "metadata": {
  "interpreter": {
   "hash": "c4510ae2205fc661e79c1256e94d74e13c5222290d1a25941673cb48af3ea7c0"
  },
  "kernelspec": {
   "display_name": "Python 3 (ipykernel)",
   "language": "python",
   "name": "python3"
  },
  "language_info": {
   "codemirror_mode": {
    "name": "ipython",
    "version": 3
   },
   "file_extension": ".py",
   "mimetype": "text/x-python",
   "name": "python",
   "nbconvert_exporter": "python",
   "pygments_lexer": "ipython3",
   "version": "3.8.12"
  }
 },
 "nbformat": 4,
 "nbformat_minor": 2
}
