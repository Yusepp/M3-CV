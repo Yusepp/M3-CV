{
 "cells": [
  {
   "cell_type": "markdown",
   "metadata": {},
   "source": [
    "Group 2 Members: Marcos Conde, Jose Manuel Lopez Camuñas, Alex Martin Martinez"
   ]
  },
  {
   "cell_type": "code",
   "execution_count": 1,
   "metadata": {},
   "outputs": [
    {
     "name": "stdout",
     "output_type": "stream",
     "text": [
      "Requirement already satisfied: tqdm in /home/yusepp/anaconda3/lib/python3.8/site-packages (4.59.0)\n",
      "Collecting git+https://github.com/gmum/pykernels.git\n",
      "  Cloning https://github.com/gmum/pykernels.git to /tmp/pip-req-build-wxbmgq2z\n",
      "  Running command git clone -q https://github.com/gmum/pykernels.git /tmp/pip-req-build-wxbmgq2z\n",
      "Requirement already satisfied: numpy in /home/yusepp/anaconda3/lib/python3.8/site-packages (from pykernels==0.0.4) (1.19.5)\n",
      "Requirement already satisfied: scipy in /home/yusepp/anaconda3/lib/python3.8/site-packages (from pykernels==0.0.4) (1.6.2)\n",
      "Requirement already satisfied: scikit-learn in /home/yusepp/anaconda3/lib/python3.8/site-packages (from pykernels==0.0.4) (0.24.1)\n",
      "Requirement already satisfied: joblib>=0.11 in /home/yusepp/anaconda3/lib/python3.8/site-packages (from scikit-learn->pykernels==0.0.4) (1.0.1)\n",
      "Requirement already satisfied: threadpoolctl>=2.0.0 in /home/yusepp/anaconda3/lib/python3.8/site-packages (from scikit-learn->pykernels==0.0.4) (2.1.0)\n"
     ]
    }
   ],
   "source": [
    "!pip install tqdm\n",
    "!pip install git+https://github.com/gmum/pykernels.git"
   ]
  },
  {
   "cell_type": "code",
   "execution_count": 2,
   "metadata": {},
   "outputs": [],
   "source": [
    "import cv2\n",
    "import numpy as np\n",
    "import pickle\n",
    "import os\n",
    "import warnings\n",
    "import pandas as pd\n",
    "from joblib import Parallel, delayed\n",
    "import multiprocessing\n",
    "from tqdm import tqdm\n",
    "from sklearn.cluster import MiniBatchKMeans\n",
    "from sklearn.neighbors import KNeighborsClassifier\n",
    "from sklearn.decomposition import PCA\n",
    "from sklearn.model_selection import cross_val_score, KFold\n",
    "from sklearn.discriminant_analysis import LinearDiscriminantAnalysis\n",
    "from sklearn.preprocessing import Normalizer\n",
    "from sklearn.preprocessing import StandardScaler\n",
    "\n",
    "num_cores = multiprocessing.cpu_count()\n",
    "\n",
    "warnings.filterwarnings('ignore')"
   ]
  },
  {
   "cell_type": "markdown",
   "metadata": {},
   "source": [
    "Let us first read the train and test files"
   ]
  },
  {
   "cell_type": "code",
   "execution_count": 3,
   "metadata": {},
   "outputs": [],
   "source": [
    "train_images_filenames = pickle.load(open('train_images_filenames.dat','rb'))\n",
    "test_images_filenames = pickle.load(open('test_images_filenames.dat','rb'))\n",
    "train_images_filenames = ['..' + n[15:] for n in train_images_filenames]\n",
    "test_images_filenames  = ['..' + n[15:] for n in test_images_filenames]\n",
    "\n",
    "train_labels = pickle.load(open('train_labels.dat','rb'))\n",
    "test_labels = pickle.load(open('test_labels.dat','rb'))"
   ]
  },
  {
   "cell_type": "markdown",
   "metadata": {},
   "source": [
    "We create a SIFT object detector and descriptor. We compute the SIFT descriptors for all the train images and subsequently build a numpy array with all the descriptors stacked together."
   ]
  },
  {
   "cell_type": "markdown",
   "metadata": {},
   "source": [
    "# Bag of words with Dense SIFT"
   ]
  },
  {
   "cell_type": "markdown",
   "metadata": {},
   "source": [
    "First it will be tested the optimal scale to be used with the dense SIFT. The number of keypoints used will be 5000 as in the previous week we found that the best results were achieved when this number of keypoints were used. "
   ]
  },
  {
   "cell_type": "code",
   "execution_count": 4,
   "metadata": {},
   "outputs": [],
   "source": [
    "def evaluate_lda(visual_words_train, visual_words_test,n_components=7,n_neighbors=5,metric='euclidean', cross_val = True):\n",
    "    if not cross_val:\n",
    "        lda = LinearDiscriminantAnalysis(n_components=n_components)\n",
    "        VWlda = lda.fit_transform(visual_words_train,train_labels)\n",
    "        knnlda = KNeighborsClassifier(n_neighbors=5,n_jobs=-1,metric='euclidean')\n",
    "        knnlda.fit(VWlda, train_labels) \n",
    "        vwtestlda = lda.transform(visual_words_test)\n",
    "        accuracy = 100*knnlda.score(vwtestlda, test_labels)\n",
    "        return accuracy\n",
    "    \n",
    "    kf = KFold(n_splits=5, random_state=42, shuffle=True)\n",
    "    accuracy = []\n",
    "    \n",
    "    def accuracy_cal(train_index, test_index):\n",
    "        \n",
    "        X_train, X_test = visual_words_train[train_index], visual_words_train[test_index]\n",
    "        y_train, y_test = np.array(train_labels)[train_index.astype(int)], np.array(train_labels)[test_index.astype(int)]   \n",
    "        X_test, y_test = np.concatenate((X_test,visual_words_test)), np.concatenate((y_test,test_labels))\n",
    "        lda = LinearDiscriminantAnalysis(n_components=n_components)\n",
    "        VWlda = lda.fit_transform(X_train ,y_train)\n",
    "        knnlda = KNeighborsClassifier(n_neighbors=n_neighbors,n_jobs=-1,metric=metric)\n",
    "        knnlda.fit(VWlda, y_train)\n",
    "        vwtestlda = lda.transform(X_test)\n",
    "        accuracy.append(100*knnlda.score(vwtestlda, y_test))\n",
    "        \n",
    "    \n",
    "    Parallel(n_jobs=num_cores,backend='threading')(delayed(accuracy_cal)(train_index, test_index)for train_index, test_index in tqdm(kf.split(visual_words_train),position=0, leave=True))\n",
    "        \n",
    "        \n",
    "    \n",
    "    return sum(accuracy)/len(accuracy)"
   ]
  },
  {
   "cell_type": "code",
   "execution_count": 5,
   "metadata": {},
   "outputs": [],
   "source": [
    "k = 128\n",
    "codebook = MiniBatchKMeans(n_clusters=k, verbose=False, batch_size=k * 20,compute_labels=False,reassignment_ratio=10**-4,random_state=42)\n",
    "\n",
    "def get_visual_words(descriptors,descriptors_np,codebook,k,test=False):\n",
    "    \n",
    "    if not test:\n",
    "        codebook.fit(descriptors_np)\n",
    "        \n",
    "    visual_words = np.zeros((len(descriptors), k), dtype=np.float32)\n",
    "    def get_words_and_visual(i):\n",
    "        \n",
    "        words = codebook.predict(descriptors[i])\n",
    "        visual_words[i,:] = np.bincount(words, minlength=k)\n",
    "        return words\n",
    "    \n",
    "    words = Parallel(n_jobs=num_cores,backend='threading')(delayed(get_words_and_visual)(i) for i in tqdm(range(len(descriptors)),total=len(descriptors), position=0, leave=True))\n",
    "        \n",
    "    \n",
    "    return words, visual_words"
   ]
  },
  {
   "cell_type": "code",
   "execution_count": 6,
   "metadata": {},
   "outputs": [],
   "source": [
    "def get_dense_SIFT_features(images, lbls, nfeatures=5000,scaling=1):\n",
    "    descriptors = []\n",
    "    label_per_descriptor = []\n",
    "    descriptors_np = None\n",
    "    sift = cv2.SIFT_create(nfeatures=nfeatures)\n",
    "    \n",
    "    def descriptors_and_labels(filename, label):\n",
    "        ima = cv2.imread(filename)\n",
    "        gray = cv2.cvtColor(ima, cv2.COLOR_BGR2GRAY)\n",
    "        gray = cv2.resize(gray, (gray.shape[0]//scaling,gray.shape[1]//scaling), interpolation = cv2.INTER_AREA)\n",
    "        step_size = 5\n",
    "        kp = [cv2.KeyPoint(x, y, step_size) for y in range(0, gray.shape[0], step_size) \n",
    "                                        for x in range(0, gray.shape[1], step_size)]\n",
    "        \n",
    "        kp, des = sift.compute(gray, kp)\n",
    "        descriptors.append(des)\n",
    "        label_per_descriptor.append(label)\n",
    "        \n",
    "    \n",
    "    Parallel(n_jobs=num_cores,backend='threading')(delayed(descriptors_and_labels)(filename,label)for filename, label in tqdm(zip(images,lbls),total = len(images), position=0, leave=True))\n",
    "        \n",
    "    \n",
    "    descriptors_np = np.vstack(descriptors)\n",
    "\n",
    "    \n",
    "    return descriptors_np, descriptors, label_per_descriptor"
   ]
  },
  {
   "cell_type": "code",
   "execution_count": 7,
   "metadata": {},
   "outputs": [],
   "source": [
    "def evaluate_dense_SIFT(nfeatures=5000,scaling=1, k=128):\n",
    "    print(\"Evaluating Dense SIFT with {} features and scaling {}\".format(nfeatures,scaling))\n",
    "    print(50*\"-\")\n",
    "\n",
    "    if not os.path.exists(\"./stored_results\"):\n",
    "        os.mkdir(\"./stored_results\")\n",
    "    \n",
    "    f = \"dense_vw_train_scale-{}_nfeatures-{}_k-{}.pkl\".format(scaling,nfeatures,k)\n",
    "\n",
    "    if f not in os.listdir(\"./stored_results\"):\n",
    "        train_descriptors_np, train_descriptors, train_label_per_descriptor = get_dense_SIFT_features(train_images_filenames, train_labels, nfeatures,scaling)\n",
    "        test_descriptors_np, test_descriptors, test_label_per_descriptor = get_dense_SIFT_features(test_images_filenames, test_labels, nfeatures,scaling)\n",
    "\n",
    "        words_train, visual_words_train = get_visual_words(train_descriptors,train_descriptors_np,codebook,k)\n",
    "        words_test, visual_words_test = get_visual_words(test_descriptors,test_descriptors_np,codebook,k,test=True)\n",
    "\n",
    "        pickle.dump(visual_words_train, open(\"./stored_results/\"+f, 'wb'))\n",
    "        pickle.dump(visual_words_test, open(\"./stored_results/\"+f.replace(\"train\", \"test\"), 'wb'))\n",
    "\n",
    "    \n",
    "    else:\n",
    "        visual_words_train = pickle.load(open(\"./stored_results/\"+f,'rb'))\n",
    "        visual_words_test = pickle.load(open(\"./stored_results/\"+f.replace(\"train\", \"test\"),'rb'))\n",
    "\n",
    "\n",
    "    lda_acc = evaluate_lda(visual_words_train, visual_words_test, n_components=7,n_neighbors=5,metric='euclidean')\n",
    "    return [lda_acc]"
   ]
  },
  {
   "cell_type": "code",
   "execution_count": 8,
   "metadata": {
    "scrolled": true
   },
   "outputs": [
    {
     "name": "stderr",
     "output_type": "stream",
     "text": [
      "5it [00:00, 2075.36it/s]"
     ]
    },
    {
     "name": "stdout",
     "output_type": "stream",
     "text": [
      "Evaluating Dense SIFT with 5000 features and scaling 1\n",
      "--------------------------------------------------\n"
     ]
    },
    {
     "name": "stderr",
     "output_type": "stream",
     "text": [
      "\n",
      "5it [00:00, 6789.10it/s]"
     ]
    },
    {
     "name": "stdout",
     "output_type": "stream",
     "text": [
      "Evaluating Dense SIFT with 5000 features and scaling 2\n",
      "--------------------------------------------------\n"
     ]
    },
    {
     "name": "stderr",
     "output_type": "stream",
     "text": [
      "\n",
      "5it [00:00, 3488.86it/s]"
     ]
    },
    {
     "name": "stdout",
     "output_type": "stream",
     "text": [
      "Evaluating Dense SIFT with 5000 features and scaling 4\n",
      "--------------------------------------------------\n"
     ]
    },
    {
     "name": "stderr",
     "output_type": "stream",
     "text": [
      "\n",
      "5it [00:00, 5015.91it/s]"
     ]
    },
    {
     "name": "stdout",
     "output_type": "stream",
     "text": [
      "Evaluating Dense SIFT with 5000 features and scaling 8\n",
      "--------------------------------------------------\n"
     ]
    },
    {
     "name": "stderr",
     "output_type": "stream",
     "text": [
      "\n"
     ]
    }
   ],
   "source": [
    "scales = [1,2,4,8]\n",
    "\n",
    "results = {}\n",
    "\n",
    "for n in scales: \n",
    "    results[str(n)+\" scaling\"] = evaluate_dense_SIFT(nfeatures=5000,scaling=n)"
   ]
  },
  {
   "cell_type": "code",
   "execution_count": 9,
   "metadata": {},
   "outputs": [
    {
     "data": {
      "text/html": [
       "<div>\n",
       "<style scoped>\n",
       "    .dataframe tbody tr th:only-of-type {\n",
       "        vertical-align: middle;\n",
       "    }\n",
       "\n",
       "    .dataframe tbody tr th {\n",
       "        vertical-align: top;\n",
       "    }\n",
       "\n",
       "    .dataframe thead th {\n",
       "        text-align: right;\n",
       "    }\n",
       "</style>\n",
       "<table border=\"1\" class=\"dataframe\">\n",
       "  <thead>\n",
       "    <tr style=\"text-align: right;\">\n",
       "      <th></th>\n",
       "      <th>KNN-LDA</th>\n",
       "    </tr>\n",
       "  </thead>\n",
       "  <tbody>\n",
       "    <tr>\n",
       "      <th>1 scaling</th>\n",
       "      <td>77.264913</td>\n",
       "    </tr>\n",
       "    <tr>\n",
       "      <th>2 scaling</th>\n",
       "      <td>71.889779</td>\n",
       "    </tr>\n",
       "    <tr>\n",
       "      <th>4 scaling</th>\n",
       "      <td>60.818250</td>\n",
       "    </tr>\n",
       "    <tr>\n",
       "      <th>8 scaling</th>\n",
       "      <td>46.095303</td>\n",
       "    </tr>\n",
       "  </tbody>\n",
       "</table>\n",
       "</div>"
      ],
      "text/plain": [
       "             KNN-LDA\n",
       "1 scaling  77.264913\n",
       "2 scaling  71.889779\n",
       "4 scaling  60.818250\n",
       "8 scaling  46.095303"
      ]
     },
     "execution_count": 9,
     "metadata": {},
     "output_type": "execute_result"
    }
   ],
   "source": [
    "df = pd.DataFrame.from_dict(results, orient='index')\n",
    "df.columns = [\"KNN-LDA\"]\n",
    "df"
   ]
  },
  {
   "cell_type": "code",
   "execution_count": 10,
   "metadata": {},
   "outputs": [
    {
     "data": {
      "text/plain": [
       "<AxesSubplot:>"
      ]
     },
     "execution_count": 10,
     "metadata": {},
     "output_type": "execute_result"
    },
    {
     "data": {
      "image/png": "[encoded data removed]",
      "text/plain": [
       "<Figure size 720x720 with 1 Axes>"
      ]
     },
     "metadata": {
      "needs_background": "light"
     },
     "output_type": "display_data"
    }
   ],
   "source": [
    "df.plot(kind=\"bar\",figsize=(10,10), rot=0)"
   ]
  },
  {
   "cell_type": "markdown",
   "metadata": {},
   "source": [
    "We will also look if varying the number of features in the downsacaled images can produce better results. We will test it with images being reduced 4 times it's original size"
   ]
  },
  {
   "cell_type": "code",
   "execution_count": 11,
   "metadata": {
    "scrolled": true
   },
   "outputs": [
    {
     "name": "stderr",
     "output_type": "stream",
     "text": [
      "5it [00:00, 3910.41it/s]"
     ]
    },
    {
     "name": "stdout",
     "output_type": "stream",
     "text": [
      "Evaluating Dense SIFT with 100 features and scaling 4\n",
      "--------------------------------------------------\n"
     ]
    },
    {
     "name": "stderr",
     "output_type": "stream",
     "text": [
      "\n",
      "5it [00:00, 5985.02it/s]"
     ]
    },
    {
     "name": "stdout",
     "output_type": "stream",
     "text": [
      "Evaluating Dense SIFT with 1000 features and scaling 4\n",
      "--------------------------------------------------\n"
     ]
    },
    {
     "name": "stderr",
     "output_type": "stream",
     "text": [
      "\n",
      "5it [00:00, 5964.60it/s]"
     ]
    },
    {
     "name": "stdout",
     "output_type": "stream",
     "text": [
      "Evaluating Dense SIFT with 5000 features and scaling 4\n",
      "--------------------------------------------------\n"
     ]
    },
    {
     "name": "stderr",
     "output_type": "stream",
     "text": [
      "\n",
      "5it [00:00, 6611.45it/s]"
     ]
    },
    {
     "name": "stdout",
     "output_type": "stream",
     "text": [
      "Evaluating Dense SIFT with 10000 features and scaling 4\n",
      "--------------------------------------------------\n"
     ]
    },
    {
     "name": "stderr",
     "output_type": "stream",
     "text": [
      "\n",
      "5it [00:00, 7113.81it/s]"
     ]
    },
    {
     "name": "stdout",
     "output_type": "stream",
     "text": [
      "Evaluating Dense SIFT with 50000 features and scaling 4\n",
      "--------------------------------------------------\n"
     ]
    },
    {
     "name": "stderr",
     "output_type": "stream",
     "text": [
      "\n"
     ]
    }
   ],
   "source": [
    "opt = [100,1000,5000, 10000,50000]\n",
    "\n",
    "results = {}\n",
    "\n",
    "for n in opt:   \n",
    "    results[str(n)+\" features\"] = evaluate_dense_SIFT(nfeatures=n,scaling=4)"
   ]
  },
  {
   "cell_type": "code",
   "execution_count": 12,
   "metadata": {},
   "outputs": [
    {
     "data": {
      "text/html": [
       "<div>\n",
       "<style scoped>\n",
       "    .dataframe tbody tr th:only-of-type {\n",
       "        vertical-align: middle;\n",
       "    }\n",
       "\n",
       "    .dataframe tbody tr th {\n",
       "        vertical-align: top;\n",
       "    }\n",
       "\n",
       "    .dataframe thead th {\n",
       "        text-align: right;\n",
       "    }\n",
       "</style>\n",
       "<table border=\"1\" class=\"dataframe\">\n",
       "  <thead>\n",
       "    <tr style=\"text-align: right;\">\n",
       "      <th></th>\n",
       "      <th>KNN-LDA</th>\n",
       "    </tr>\n",
       "  </thead>\n",
       "  <tbody>\n",
       "    <tr>\n",
       "      <th>100 features</th>\n",
       "      <td>59.584071</td>\n",
       "    </tr>\n",
       "    <tr>\n",
       "      <th>1000 features</th>\n",
       "      <td>59.651867</td>\n",
       "    </tr>\n",
       "    <tr>\n",
       "      <th>5000 features</th>\n",
       "      <td>60.818250</td>\n",
       "    </tr>\n",
       "    <tr>\n",
       "      <th>10000 features</th>\n",
       "      <td>59.634732</td>\n",
       "    </tr>\n",
       "    <tr>\n",
       "      <th>50000 features</th>\n",
       "      <td>59.955935</td>\n",
       "    </tr>\n",
       "  </tbody>\n",
       "</table>\n",
       "</div>"
      ],
      "text/plain": [
       "                  KNN-LDA\n",
       "100 features    59.584071\n",
       "1000 features   59.651867\n",
       "5000 features   60.818250\n",
       "10000 features  59.634732\n",
       "50000 features  59.955935"
      ]
     },
     "execution_count": 12,
     "metadata": {},
     "output_type": "execute_result"
    }
   ],
   "source": [
    "df = pd.DataFrame.from_dict(results, orient='index')\n",
    "df.columns = [\"KNN-LDA\"]\n",
    "df"
   ]
  },
  {
   "cell_type": "code",
   "execution_count": 13,
   "metadata": {},
   "outputs": [
    {
     "data": {
      "text/plain": [
       "<AxesSubplot:>"
      ]
     },
     "execution_count": 13,
     "metadata": {},
     "output_type": "execute_result"
    },
    {
     "data": {
      "image/png": "[encoded data removed]",
      "text/plain": [
       "<Figure size 720x720 with 1 Axes>"
      ]
     },
     "metadata": {
      "needs_background": "light"
     },
     "output_type": "display_data"
    }
   ],
   "source": [
    "df.plot(kind=\"bar\",figsize=(10,10), rot=0)"
   ]
  },
  {
   "cell_type": "code",
   "execution_count": 14,
   "metadata": {},
   "outputs": [],
   "source": [
    "#comentar "
   ]
  },
  {
   "cell_type": "markdown",
   "metadata": {},
   "source": [
    "# Testing different codebook k sizes for the dense SIFT"
   ]
  },
  {
   "cell_type": "markdown",
   "metadata": {},
   "source": [
    "Using the previous scaling found to be the best one we will also test the best k for the previous seleceted parameters"
   ]
  },
  {
   "cell_type": "code",
   "execution_count": 15,
   "metadata": {
    "scrolled": true
   },
   "outputs": [
    {
     "name": "stderr",
     "output_type": "stream",
     "text": [
      "100%|██████████| 1881/1881 [00:26<00:00, 70.41it/s]\n",
      "100%|██████████| 807/807 [00:11<00:00, 68.83it/s]\n",
      "5it [00:00, 4977.81it/s]"
     ]
    },
    {
     "name": "stdout",
     "output_type": "stream",
     "text": [
      "Evaluating SIFT with 2500 features and k=32\n",
      "--------------------------------------------------\n"
     ]
    },
    {
     "name": "stderr",
     "output_type": "stream",
     "text": [
      "\n",
      "5it [00:00, 5785.25it/s]"
     ]
    },
    {
     "name": "stdout",
     "output_type": "stream",
     "text": [
      "Evaluating SIFT with 2500 features and k=64\n",
      "--------------------------------------------------\n"
     ]
    },
    {
     "name": "stderr",
     "output_type": "stream",
     "text": [
      "\n",
      "5it [00:00, 6808.94it/s]"
     ]
    },
    {
     "name": "stdout",
     "output_type": "stream",
     "text": [
      "Evaluating SIFT with 2500 features and k=128\n",
      "--------------------------------------------------\n"
     ]
    },
    {
     "name": "stderr",
     "output_type": "stream",
     "text": [
      "\n",
      "5it [00:00, 5348.51it/s]"
     ]
    },
    {
     "name": "stdout",
     "output_type": "stream",
     "text": [
      "Evaluating SIFT with 2500 features and k=256\n",
      "--------------------------------------------------\n"
     ]
    },
    {
     "name": "stderr",
     "output_type": "stream",
     "text": [
      "\n",
      "5it [00:00, 6370.45it/s]"
     ]
    },
    {
     "name": "stdout",
     "output_type": "stream",
     "text": [
      "Evaluating SIFT with 2500 features and k=512\n",
      "--------------------------------------------------\n"
     ]
    },
    {
     "name": "stderr",
     "output_type": "stream",
     "text": [
      "\n",
      "5it [00:00, 4512.92it/s]"
     ]
    },
    {
     "name": "stdout",
     "output_type": "stream",
     "text": [
      "Evaluating SIFT with 2500 features and k=1024\n",
      "--------------------------------------------------\n"
     ]
    },
    {
     "name": "stderr",
     "output_type": "stream",
     "text": [
      "\n"
     ]
    }
   ],
   "source": [
    "def evaluate_k_codebook(k_values:list(),nfeatures=5000):\n",
    "    \n",
    "\n",
    "    train_descriptors_np, train_descriptors, train_label_per_descriptor = get_dense_SIFT_features(train_images_filenames, train_labels)\n",
    "    test_descriptors_np, test_descriptors, test_label_per_descriptor = get_dense_SIFT_features(test_images_filenames, test_labels)\n",
    "    \n",
    "    results = {}\n",
    "    \n",
    "    for k in k_values:\n",
    "        print(\"Evaluating SIFT with {} features and k={}\".format(nfeatures,k))\n",
    "        print(50*\"-\")\n",
    "        f = \"dense_vw_train_scale-{}_nfeatures-{}_k-{}.pkl\".format(1,nfeatures,k)\n",
    "        if f not in os.listdir(\"./stored_results\"):\n",
    "            codebook = MiniBatchKMeans(n_clusters=k, verbose=False, batch_size=k * 20,compute_labels=False,reassignment_ratio=10**-4,random_state=42)\n",
    "            words_train, visual_words_train = get_visual_words(train_descriptors,train_descriptors_np,codebook,k)\n",
    "            words_test, visual_words_test = get_visual_words(test_descriptors,test_descriptors_np,codebook,k,test=True)\n",
    "\n",
    "            pickle.dump(visual_words_train, open(\"./stored_results/\"+f, 'wb'))\n",
    "            pickle.dump(visual_words_test, open(\"./stored_results/\"+f.replace(\"train\", \"test\"), 'wb'))\n",
    "\n",
    "    \n",
    "        else:\n",
    "            visual_words_train = pickle.load(open(\"./stored_results/\"+f,'rb'))\n",
    "            visual_words_test = pickle.load(open(\"./stored_results/\"+f.replace(\"train\", \"test\"),'rb'))\n",
    "\n",
    "        results[\"k = \"+str(k)]= evaluate_lda(visual_words_train, visual_words_test, n_components=7,n_neighbors=5,metric='euclidean')\n",
    "        \n",
    "    return results\n",
    "    \n",
    "\n",
    "\n",
    "opt = [32, 64, 128, 256, 512, 1024]\n",
    "\n",
    "results = evaluate_k_codebook(nfeatures=2500, k_values=opt)"
   ]
  },
  {
   "cell_type": "code",
   "execution_count": 16,
   "metadata": {},
   "outputs": [
    {
     "data": {
      "text/html": [
       "<div>\n",
       "<style scoped>\n",
       "    .dataframe tbody tr th:only-of-type {\n",
       "        vertical-align: middle;\n",
       "    }\n",
       "\n",
       "    .dataframe tbody tr th {\n",
       "        vertical-align: top;\n",
       "    }\n",
       "\n",
       "    .dataframe thead th {\n",
       "        text-align: right;\n",
       "    }\n",
       "</style>\n",
       "<table border=\"1\" class=\"dataframe\">\n",
       "  <thead>\n",
       "    <tr style=\"text-align: right;\">\n",
       "      <th></th>\n",
       "      <th>KNN-LDA</th>\n",
       "    </tr>\n",
       "  </thead>\n",
       "  <tbody>\n",
       "    <tr>\n",
       "      <th>k = 32</th>\n",
       "      <td>69.286785</td>\n",
       "    </tr>\n",
       "    <tr>\n",
       "      <th>k = 64</th>\n",
       "      <td>72.565997</td>\n",
       "    </tr>\n",
       "    <tr>\n",
       "      <th>k = 128</th>\n",
       "      <td>76.774834</td>\n",
       "    </tr>\n",
       "    <tr>\n",
       "      <th>k = 256</th>\n",
       "      <td>78.312696</td>\n",
       "    </tr>\n",
       "    <tr>\n",
       "      <th>k = 512</th>\n",
       "      <td>77.298968</td>\n",
       "    </tr>\n",
       "    <tr>\n",
       "      <th>k = 1024</th>\n",
       "      <td>65.872096</td>\n",
       "    </tr>\n",
       "  </tbody>\n",
       "</table>\n",
       "</div>"
      ],
      "text/plain": [
       "            KNN-LDA\n",
       "k = 32    69.286785\n",
       "k = 64    72.565997\n",
       "k = 128   76.774834\n",
       "k = 256   78.312696\n",
       "k = 512   77.298968\n",
       "k = 1024  65.872096"
      ]
     },
     "execution_count": 16,
     "metadata": {},
     "output_type": "execute_result"
    }
   ],
   "source": [
    "df = pd.DataFrame.from_dict(results, orient='index')\n",
    "df.columns = [\"KNN-LDA\"]\n",
    "df"
   ]
  },
  {
   "cell_type": "code",
   "execution_count": 17,
   "metadata": {},
   "outputs": [
    {
     "data": {
      "text/plain": [
       "<AxesSubplot:>"
      ]
     },
     "execution_count": 17,
     "metadata": {},
     "output_type": "execute_result"
    },
    {
     "data": {
      "image/png": "[encoded data removed]",
      "text/plain": [
       "<Figure size 720x720 with 1 Axes>"
      ]
     },
     "metadata": {
      "needs_background": "light"
     },
     "output_type": "display_data"
    }
   ],
   "source": [
    "df.plot(kind=\"bar\",figsize=(10,10), rot=0)"
   ]
  },
  {
   "cell_type": "markdown",
   "metadata": {},
   "source": [
    "When varying the codebook sizes the number of bins used to produce the histograms changes. In this test we observe that for the three methods when 128 was used as the codebook size the results were better."
   ]
  },
  {
   "cell_type": "markdown",
   "metadata": {},
   "source": [
    "# Normalizing the data"
   ]
  },
  {
   "cell_type": "markdown",
   "metadata": {},
   "source": [
    "Here it will be tested different data normalization methods to look if it can improve the performance of the previous methods"
   ]
  },
  {
   "cell_type": "code",
   "execution_count": 18,
   "metadata": {},
   "outputs": [],
   "source": [
    "def evaluate_dense_SIFT_normalization(nfeatures=5000,scaling=1, k=256,norm='l1'):\n",
    "    print(\"Evaluating Dense SIFT with {} features, scaling {} and {} normalization.\".format(nfeatures,scaling,norm))\n",
    "    print(50*\"-\")\n",
    "\n",
    "    f = \"dense_vw_train_scale-{}_nfeatures-{}_k-{}_norm-{}.pkl\".format(scaling,nfeatures,k,norm)\n",
    "\n",
    "    if f not in os.listdir(\"./stored_results\"):\n",
    "\n",
    "\n",
    "        train_descriptors_np, train_descriptors, train_label_per_descriptor = get_dense_SIFT_features(train_images_filenames, train_labels, nfeatures,scaling)\n",
    "        test_descriptors_np, test_descriptors, test_label_per_descriptor = get_dense_SIFT_features(test_images_filenames, test_labels, nfeatures,scaling)\n",
    "        \n",
    "        if norm != 'std':\n",
    "            normalizer = Normalizer(norm=norm)\n",
    "            \n",
    "        normalizer = StandardScaler()\n",
    "\n",
    "        train_descriptors_np = normalizer.fit_transform(train_descriptors_np)\n",
    "        test_descriptors_np = normalizer.transform(test_descriptors_np)\n",
    "        \n",
    "        # flatten from 3d to 2d\n",
    "        train_descriptors_2d = np.array(train_descriptors)\n",
    "        train_descriptors_2d = train_descriptors_2d.reshape(-1, train_descriptors_2d.shape[-1])\n",
    "        train_descriptors_2d = normalizer.fit_transform(train_descriptors_2d)\n",
    "        train_descriptors = train_descriptors_2d.reshape(np.array(train_descriptors).shape)\n",
    "\n",
    "\n",
    "        test_descriptors_2d = np.array(test_descriptors)\n",
    "        test_descriptors_2d = test_descriptors_2d.reshape(-1, test_descriptors_2d.shape[-1])\n",
    "        test_descriptors_2d = normalizer.transform(test_descriptors_2d)\n",
    "        test_descriptors = test_descriptors_2d.reshape(np.array(test_descriptors).shape)\n",
    "\n",
    "        words_train, visual_words_train = get_visual_words(train_descriptors,train_descriptors_np,codebook,k)\n",
    "        words_test, visual_words_test = get_visual_words(test_descriptors,test_descriptors_np,codebook,k,test=True)\n",
    "\n",
    "        pickle.dump(visual_words_train, open(\"./stored_results/\"+f, 'wb'))\n",
    "        pickle.dump(visual_words_test, open(\"./stored_results/\"+f.replace(\"train\", \"test\"), 'wb'))\n",
    "    \n",
    "    else:\n",
    "        visual_words_train = pickle.load(open(\"./stored_results/\"+f,'rb'))\n",
    "        visual_words_test = pickle.load(open(\"./stored_results/\"+f.replace(\"train\", \"test\"),'rb'))\n",
    "\n",
    "    lda_acc = evaluate_lda(visual_words_train, visual_words_test, n_components=7,n_neighbors=5,metric='euclidean')\n",
    "    return [lda_acc]"
   ]
  },
  {
   "cell_type": "code",
   "execution_count": 19,
   "metadata": {
    "scrolled": true
   },
   "outputs": [
    {
     "name": "stderr",
     "output_type": "stream",
     "text": [
      "5it [00:00, 1292.30it/s]"
     ]
    },
    {
     "name": "stdout",
     "output_type": "stream",
     "text": [
      "Evaluating Dense SIFT with 5000 features, scaling 1 and l1 normalization.\n",
      "--------------------------------------------------\n"
     ]
    },
    {
     "name": "stderr",
     "output_type": "stream",
     "text": [
      "\n",
      "5it [00:00, 5118.75it/s]"
     ]
    },
    {
     "name": "stdout",
     "output_type": "stream",
     "text": [
      "Evaluating Dense SIFT with 5000 features, scaling 1 and l2 normalization.\n",
      "--------------------------------------------------\n"
     ]
    },
    {
     "name": "stderr",
     "output_type": "stream",
     "text": [
      "\n",
      "5it [00:00, 4791.30it/s]"
     ]
    },
    {
     "name": "stdout",
     "output_type": "stream",
     "text": [
      "Evaluating Dense SIFT with 5000 features, scaling 1 and max normalization.\n",
      "--------------------------------------------------\n"
     ]
    },
    {
     "name": "stderr",
     "output_type": "stream",
     "text": [
      "\n",
      "5it [00:00, 4905.62it/s]"
     ]
    },
    {
     "name": "stdout",
     "output_type": "stream",
     "text": [
      "Evaluating Dense SIFT with 5000 features, scaling 1 and std normalization.\n",
      "--------------------------------------------------\n"
     ]
    },
    {
     "name": "stderr",
     "output_type": "stream",
     "text": [
      "\n"
     ]
    }
   ],
   "source": [
    "norms = ['l1','l2', 'max', 'std']\n",
    "\n",
    "results={}\n",
    "\n",
    "for norm in norms: \n",
    "    results[\"Normalization used:  \"+str(norm)] = evaluate_dense_SIFT_normalization(norm = norm)"
   ]
  },
  {
   "cell_type": "code",
   "execution_count": 20,
   "metadata": {},
   "outputs": [
    {
     "data": {
      "text/html": [
       "<div>\n",
       "<style scoped>\n",
       "    .dataframe tbody tr th:only-of-type {\n",
       "        vertical-align: middle;\n",
       "    }\n",
       "\n",
       "    .dataframe tbody tr th {\n",
       "        vertical-align: top;\n",
       "    }\n",
       "\n",
       "    .dataframe thead th {\n",
       "        text-align: right;\n",
       "    }\n",
       "</style>\n",
       "<table border=\"1\" class=\"dataframe\">\n",
       "  <thead>\n",
       "    <tr style=\"text-align: right;\">\n",
       "      <th></th>\n",
       "      <th>KNN-LDA</th>\n",
       "    </tr>\n",
       "  </thead>\n",
       "  <tbody>\n",
       "    <tr>\n",
       "      <th>Normalization used:  l1</th>\n",
       "      <td>75.473273</td>\n",
       "    </tr>\n",
       "    <tr>\n",
       "      <th>Normalization used:  l2</th>\n",
       "      <td>77.941117</td>\n",
       "    </tr>\n",
       "    <tr>\n",
       "      <th>Normalization used:  max</th>\n",
       "      <td>77.687681</td>\n",
       "    </tr>\n",
       "    <tr>\n",
       "      <th>Normalization used:  std</th>\n",
       "      <td>79.901990</td>\n",
       "    </tr>\n",
       "  </tbody>\n",
       "</table>\n",
       "</div>"
      ],
      "text/plain": [
       "                            KNN-LDA\n",
       "Normalization used:  l1   75.473273\n",
       "Normalization used:  l2   77.941117\n",
       "Normalization used:  max  77.687681\n",
       "Normalization used:  std  79.901990"
      ]
     },
     "execution_count": 20,
     "metadata": {},
     "output_type": "execute_result"
    }
   ],
   "source": [
    "df = pd.DataFrame.from_dict(results, orient='index')\n",
    "df.columns = [\"KNN-LDA\"]\n",
    "df"
   ]
  },
  {
   "cell_type": "code",
   "execution_count": 21,
   "metadata": {},
   "outputs": [
    {
     "data": {
      "text/plain": [
       "<AxesSubplot:>"
      ]
     },
     "execution_count": 21,
     "metadata": {},
     "output_type": "execute_result"
    },
    {
     "data": {
      "image/png": "[encoded data removed]",
      "text/plain": [
       "<Figure size 720x720 with 1 Axes>"
      ]
     },
     "metadata": {
      "needs_background": "light"
     },
     "output_type": "display_data"
    }
   ],
   "source": [
    "df.plot(kind=\"bar\",figsize=(10,10), rot=0)"
   ]
  },
  {
   "cell_type": "markdown",
   "metadata": {},
   "source": [
    "# Dense SIFT with SVM"
   ]
  },
  {
   "cell_type": "code",
   "execution_count": 27,
   "metadata": {},
   "outputs": [],
   "source": [
    "from sklearn.svm import LinearSVC, SVC\n",
    "from sklearn.model_selection import GridSearchCV\n",
    "\n",
    "def evaluate_svm(estimator=LinearSVC(), params = {}, cv = 5):\n",
    "\n",
    "    # Load Standarized data\n",
    "    visual_words_train = pickle.load(open(\"./stored_results/dense_vw_train_scale-1_nfeatures-5000_k-256_norm-std.pkl\",'rb'))\n",
    "    visual_words_test = pickle.load(open(\"./stored_results/dense_vw_test_scale-1_nfeatures-5000_k-256_norm-std.pkl\",'rb'))\n",
    "\n",
    "    # Reducing Data Cardinality\n",
    "    lda = LinearDiscriminantAnalysis(n_components=7)\n",
    "    X_train = lda.fit_transform(visual_words_train,train_labels)\n",
    "    X_test = lda.transform(visual_words_test)\n",
    "\n",
    "    # Selecting best model params through GridSearchCV\n",
    "    model = GridSearchCV(estimator = estimator,n_jobs = -1, param_grid = params, cv = 5)\n",
    "    model.fit(X_train, train_labels)\n",
    "    print(model.best_params_)\n",
    "\n",
    "    # Evaluate model on test set\n",
    "    score = model.score(X_test, test_labels)\n",
    "\n",
    "    return score"
   ]
  },
  {
   "cell_type": "code",
   "execution_count": 28,
   "metadata": {},
   "outputs": [],
   "source": [
    "def histogram_intersection(X,Y):\n",
    "    kernel = np.zeros((X.shape[0], Y.shape[0]))\n",
    "\n",
    "    for d in range(X.shape[1]):\n",
    "        column_1 = X[:, d].reshape(-1, 1)\n",
    "        column_2 = Y[:, d].reshape(-1, 1)\n",
    "        kernel += np.minimum(column_1, column_2.T)\n",
    "\n",
    "    return kernel"
   ]
  },
  {
   "cell_type": "code",
   "execution_count": 33,
   "metadata": {},
   "outputs": [
    {
     "name": "stdout",
     "output_type": "stream",
     "text": [
      "{'C': 20, 'dual': True, 'loss': 'hinge', 'penalty': 'l2', 'random_state': 42, 'tol': 0.1}\n",
      "{'C': 1, 'gamma': 0.1, 'kernel': 'rbf', 'random_state': 42, 'tol': 0.0001}\n",
      "{'C': 1, 'gamma': 0.1, 'kernel': <function histogram_intersection at 0x7feb30cd70d0>, 'random_state': 42, 'tol': 0.01}\n"
     ]
    }
   ],
   "source": [
    "opts = [\n",
    "    ({\"estimator\": LinearSVC(), \"params\": { \"penalty\":[\"l1\", \"l2\"], \"loss\": [\"hinge\", \"squared_hinge\"], \"dual\": [False, True], \n",
    "    \"C\": [1, 5, 10, 20, 50], \"tol\": [1e-1, 1e-2, 1e-3, 1e-4, 1e-5] , \"random_state\": [42]}}, \"Linear\"),\n",
    "    ({\"estimator\": SVC(), \"params\": { \"kernel\":[\"rbf\"], \"gamma\": [0.1, 1, 10, 100], \"C\": [1, 5, 10, 20, 50],\n",
    "     \"tol\": [1e-1, 1e-2, 1e-3, 1e-4, 1e-5], \"random_state\": [42]}}, \"RBF\"),\n",
    "    ({\"estimator\": SVC(), \"params\": { \"kernel\":[histogram_intersection], \"gamma\": [0.1, 1, 10, 100], \"C\": [1, 5, 10, 20, 50],\n",
    "     \"tol\": [1e-1, 1e-2, 1e-3, 1e-4, 1e-5], \"random_state\": [42]}}, \"Histogram Intersection\")\n",
    "]\n",
    "\n",
    "results={}\n",
    "\n",
    "for opt, name in opts:\n",
    "    results[name] = evaluate_svm(estimator = opt[\"estimator\"], params = opt[\"params\"], cv = 5)*100"
   ]
  },
  {
   "cell_type": "code",
   "execution_count": 34,
   "metadata": {},
   "outputs": [
    {
     "data": {
      "text/html": [
       "<div>\n",
       "<style scoped>\n",
       "    .dataframe tbody tr th:only-of-type {\n",
       "        vertical-align: middle;\n",
       "    }\n",
       "\n",
       "    .dataframe tbody tr th {\n",
       "        vertical-align: top;\n",
       "    }\n",
       "\n",
       "    .dataframe thead th {\n",
       "        text-align: right;\n",
       "    }\n",
       "</style>\n",
       "<table border=\"1\" class=\"dataframe\">\n",
       "  <thead>\n",
       "    <tr style=\"text-align: right;\">\n",
       "      <th></th>\n",
       "      <th>SVC + LDA</th>\n",
       "    </tr>\n",
       "  </thead>\n",
       "  <tbody>\n",
       "    <tr>\n",
       "      <th>Linear</th>\n",
       "      <td>81.040892</td>\n",
       "    </tr>\n",
       "    <tr>\n",
       "      <th>RBF</th>\n",
       "      <td>81.784387</td>\n",
       "    </tr>\n",
       "    <tr>\n",
       "      <th>Histogram Intersection</th>\n",
       "      <td>81.660471</td>\n",
       "    </tr>\n",
       "  </tbody>\n",
       "</table>\n",
       "</div>"
      ],
      "text/plain": [
       "                        SVC + LDA\n",
       "Linear                  81.040892\n",
       "RBF                     81.784387\n",
       "Histogram Intersection  81.660471"
      ]
     },
     "execution_count": 34,
     "metadata": {},
     "output_type": "execute_result"
    }
   ],
   "source": [
    "df = pd.DataFrame.from_dict(results, orient='index')\n",
    "df.columns = [\"SVC + LDA\"]\n",
    "df"
   ]
  },
  {
   "cell_type": "code",
   "execution_count": 35,
   "metadata": {},
   "outputs": [
    {
     "data": {
      "text/plain": [
       "<AxesSubplot:>"
      ]
     },
     "execution_count": 35,
     "metadata": {},
     "output_type": "execute_result"
    },
    {
     "data": {
      "image/png": "[encoded data removed]",
      "text/plain": [
       "<Figure size 720x720 with 1 Axes>"
      ]
     },
     "metadata": {
      "needs_background": "light"
     },
     "output_type": "display_data"
    }
   ],
   "source": [
    "df.plot(kind=\"bar\",figsize=(10,10), rot=0)"
   ]
  },
  {
   "cell_type": "code",
   "execution_count": null,
   "metadata": {},
   "outputs": [],
   "source": []
  }
 ],
 "metadata": {
  "interpreter": {
   "hash": "c4510ae2205fc661e79c1256e94d74e13c5222290d1a25941673cb48af3ea7c0"
  },
  "kernelspec": {
   "display_name": "Python 3",
   "language": "python",
   "name": "python3"
  },
  "language_info": {
   "codemirror_mode": {
    "name": "ipython",
    "version": 3
   },
   "file_extension": ".py",
   "mimetype": "text/x-python",
   "name": "python",
   "nbconvert_exporter": "python",
   "pygments_lexer": "ipython3",
   "version": "3.8.8"
  }
 },
 "nbformat": 4,
 "nbformat_minor": 2
}
